{
  "cells": [
    {
      "cell_type": "markdown",
      "metadata": {
        "id": "view-in-github",
        "colab_type": "text"
      },
      "source": [
        "<a href=\"https://colab.research.google.com/github/BiakkoNoMiko/homework_projects/blob/main/HW_ML_evaluation_metrics%20.ipynb\" target=\"_parent\"><img src=\"https://colab.research.google.com/assets/colab-badge.svg\" alt=\"Open In Colab\"/></a>"
      ]
    },
    {
      "cell_type": "markdown",
      "id": "d39b82c6",
      "metadata": {
        "id": "d39b82c6"
      },
      "source": [
        "## Домашнее задание по Python #31  Классификация: \"Оценка точности модели, переобучение, регуляризация\" Лузановой Е.В.\n",
        "Курс: dsn-cp-2"
      ]
    },
    {
      "cell_type": "markdown",
      "id": "b0076e31",
      "metadata": {
        "id": "b0076e31"
      },
      "source": [
        "<div> ## Задача\n",
        " Решить задачу классификации при помощи обучения модели логистической регрессии. Качество модели оценивается путем подсчета метрик TPR, FPR и построения графиков ROC-кривой, Precision-Recall. Данные для обучения модели хранятся в файле athletes.csv, который можно найти в материалах к занятию.</div>"
      ]
    },
    {
      "cell_type": "code",
      "execution_count": null,
      "id": "6fb17cf5",
      "metadata": {
        "id": "6fb17cf5"
      },
      "outputs": [],
      "source": [
        "import pandas as pd\n",
        "import numpy as np\n",
        "import seaborn as sns\n",
        "import matplotlib.pyplot as plt\n",
        "import sklearn\n",
        "%matplotlib inline"
      ]
    },
    {
      "cell_type": "code",
      "execution_count": null,
      "id": "e193293b",
      "metadata": {
        "id": "e193293b",
        "outputId": "d66b9e1f-6b7e-40ad-d692-d68429e746c6",
        "colab": {
          "base_uri": "https://localhost:8080/",
          "height": 206
        }
      },
      "outputs": [
        {
          "output_type": "execute_result",
          "data": {
            "text/plain": [
              "          id            name nationality     sex       dob  height  weight  \\\n",
              "0  736041664  A Jesus Garcia         ESP    male  10/17/69    1.72    64.0   \n",
              "1  532037425      A Lam Shin         KOR  female   9/23/86    1.68    56.0   \n",
              "2  435962603     Aaron Brown         CAN    male   5/27/92    1.98    79.0   \n",
              "3  521041435      Aaron Cook         MDA    male    1/2/91    1.83    80.0   \n",
              "4   33922579      Aaron Gate         NZL    male  11/26/90    1.81    71.0   \n",
              "\n",
              "       sport  gold  silver  bronze  \n",
              "0  athletics     0       0       0  \n",
              "1    fencing     0       0       0  \n",
              "2  athletics     0       0       1  \n",
              "3  taekwondo     0       0       0  \n",
              "4    cycling     0       0       0  "
            ],
            "text/html": [
              "\n",
              "  <div id=\"df-78c5f2e8-2e18-420e-b077-0c9212814dca\">\n",
              "    <div class=\"colab-df-container\">\n",
              "      <div>\n",
              "<style scoped>\n",
              "    .dataframe tbody tr th:only-of-type {\n",
              "        vertical-align: middle;\n",
              "    }\n",
              "\n",
              "    .dataframe tbody tr th {\n",
              "        vertical-align: top;\n",
              "    }\n",
              "\n",
              "    .dataframe thead th {\n",
              "        text-align: right;\n",
              "    }\n",
              "</style>\n",
              "<table border=\"1\" class=\"dataframe\">\n",
              "  <thead>\n",
              "    <tr style=\"text-align: right;\">\n",
              "      <th></th>\n",
              "      <th>id</th>\n",
              "      <th>name</th>\n",
              "      <th>nationality</th>\n",
              "      <th>sex</th>\n",
              "      <th>dob</th>\n",
              "      <th>height</th>\n",
              "      <th>weight</th>\n",
              "      <th>sport</th>\n",
              "      <th>gold</th>\n",
              "      <th>silver</th>\n",
              "      <th>bronze</th>\n",
              "    </tr>\n",
              "  </thead>\n",
              "  <tbody>\n",
              "    <tr>\n",
              "      <th>0</th>\n",
              "      <td>736041664</td>\n",
              "      <td>A Jesus Garcia</td>\n",
              "      <td>ESP</td>\n",
              "      <td>male</td>\n",
              "      <td>10/17/69</td>\n",
              "      <td>1.72</td>\n",
              "      <td>64.0</td>\n",
              "      <td>athletics</td>\n",
              "      <td>0</td>\n",
              "      <td>0</td>\n",
              "      <td>0</td>\n",
              "    </tr>\n",
              "    <tr>\n",
              "      <th>1</th>\n",
              "      <td>532037425</td>\n",
              "      <td>A Lam Shin</td>\n",
              "      <td>KOR</td>\n",
              "      <td>female</td>\n",
              "      <td>9/23/86</td>\n",
              "      <td>1.68</td>\n",
              "      <td>56.0</td>\n",
              "      <td>fencing</td>\n",
              "      <td>0</td>\n",
              "      <td>0</td>\n",
              "      <td>0</td>\n",
              "    </tr>\n",
              "    <tr>\n",
              "      <th>2</th>\n",
              "      <td>435962603</td>\n",
              "      <td>Aaron Brown</td>\n",
              "      <td>CAN</td>\n",
              "      <td>male</td>\n",
              "      <td>5/27/92</td>\n",
              "      <td>1.98</td>\n",
              "      <td>79.0</td>\n",
              "      <td>athletics</td>\n",
              "      <td>0</td>\n",
              "      <td>0</td>\n",
              "      <td>1</td>\n",
              "    </tr>\n",
              "    <tr>\n",
              "      <th>3</th>\n",
              "      <td>521041435</td>\n",
              "      <td>Aaron Cook</td>\n",
              "      <td>MDA</td>\n",
              "      <td>male</td>\n",
              "      <td>1/2/91</td>\n",
              "      <td>1.83</td>\n",
              "      <td>80.0</td>\n",
              "      <td>taekwondo</td>\n",
              "      <td>0</td>\n",
              "      <td>0</td>\n",
              "      <td>0</td>\n",
              "    </tr>\n",
              "    <tr>\n",
              "      <th>4</th>\n",
              "      <td>33922579</td>\n",
              "      <td>Aaron Gate</td>\n",
              "      <td>NZL</td>\n",
              "      <td>male</td>\n",
              "      <td>11/26/90</td>\n",
              "      <td>1.81</td>\n",
              "      <td>71.0</td>\n",
              "      <td>cycling</td>\n",
              "      <td>0</td>\n",
              "      <td>0</td>\n",
              "      <td>0</td>\n",
              "    </tr>\n",
              "  </tbody>\n",
              "</table>\n",
              "</div>\n",
              "      <button class=\"colab-df-convert\" onclick=\"convertToInteractive('df-78c5f2e8-2e18-420e-b077-0c9212814dca')\"\n",
              "              title=\"Convert this dataframe to an interactive table.\"\n",
              "              style=\"display:none;\">\n",
              "        \n",
              "  <svg xmlns=\"http://www.w3.org/2000/svg\" height=\"24px\"viewBox=\"0 0 24 24\"\n",
              "       width=\"24px\">\n",
              "    <path d=\"M0 0h24v24H0V0z\" fill=\"none\"/>\n",
              "    <path d=\"M18.56 5.44l.94 2.06.94-2.06 2.06-.94-2.06-.94-.94-2.06-.94 2.06-2.06.94zm-11 1L8.5 8.5l.94-2.06 2.06-.94-2.06-.94L8.5 2.5l-.94 2.06-2.06.94zm10 10l.94 2.06.94-2.06 2.06-.94-2.06-.94-.94-2.06-.94 2.06-2.06.94z\"/><path d=\"M17.41 7.96l-1.37-1.37c-.4-.4-.92-.59-1.43-.59-.52 0-1.04.2-1.43.59L10.3 9.45l-7.72 7.72c-.78.78-.78 2.05 0 2.83L4 21.41c.39.39.9.59 1.41.59.51 0 1.02-.2 1.41-.59l7.78-7.78 2.81-2.81c.8-.78.8-2.07 0-2.86zM5.41 20L4 18.59l7.72-7.72 1.47 1.35L5.41 20z\"/>\n",
              "  </svg>\n",
              "      </button>\n",
              "      \n",
              "  <style>\n",
              "    .colab-df-container {\n",
              "      display:flex;\n",
              "      flex-wrap:wrap;\n",
              "      gap: 12px;\n",
              "    }\n",
              "\n",
              "    .colab-df-convert {\n",
              "      background-color: #E8F0FE;\n",
              "      border: none;\n",
              "      border-radius: 50%;\n",
              "      cursor: pointer;\n",
              "      display: none;\n",
              "      fill: #1967D2;\n",
              "      height: 32px;\n",
              "      padding: 0 0 0 0;\n",
              "      width: 32px;\n",
              "    }\n",
              "\n",
              "    .colab-df-convert:hover {\n",
              "      background-color: #E2EBFA;\n",
              "      box-shadow: 0px 1px 2px rgba(60, 64, 67, 0.3), 0px 1px 3px 1px rgba(60, 64, 67, 0.15);\n",
              "      fill: #174EA6;\n",
              "    }\n",
              "\n",
              "    [theme=dark] .colab-df-convert {\n",
              "      background-color: #3B4455;\n",
              "      fill: #D2E3FC;\n",
              "    }\n",
              "\n",
              "    [theme=dark] .colab-df-convert:hover {\n",
              "      background-color: #434B5C;\n",
              "      box-shadow: 0px 1px 3px 1px rgba(0, 0, 0, 0.15);\n",
              "      filter: drop-shadow(0px 1px 2px rgba(0, 0, 0, 0.3));\n",
              "      fill: #FFFFFF;\n",
              "    }\n",
              "  </style>\n",
              "\n",
              "      <script>\n",
              "        const buttonEl =\n",
              "          document.querySelector('#df-78c5f2e8-2e18-420e-b077-0c9212814dca button.colab-df-convert');\n",
              "        buttonEl.style.display =\n",
              "          google.colab.kernel.accessAllowed ? 'block' : 'none';\n",
              "\n",
              "        async function convertToInteractive(key) {\n",
              "          const element = document.querySelector('#df-78c5f2e8-2e18-420e-b077-0c9212814dca');\n",
              "          const dataTable =\n",
              "            await google.colab.kernel.invokeFunction('convertToInteractive',\n",
              "                                                     [key], {});\n",
              "          if (!dataTable) return;\n",
              "\n",
              "          const docLinkHtml = 'Like what you see? Visit the ' +\n",
              "            '<a target=\"_blank\" href=https://colab.research.google.com/notebooks/data_table.ipynb>data table notebook</a>'\n",
              "            + ' to learn more about interactive tables.';\n",
              "          element.innerHTML = '';\n",
              "          dataTable['output_type'] = 'display_data';\n",
              "          await google.colab.output.renderOutput(dataTable, element);\n",
              "          const docLink = document.createElement('div');\n",
              "          docLink.innerHTML = docLinkHtml;\n",
              "          element.appendChild(docLink);\n",
              "        }\n",
              "      </script>\n",
              "    </div>\n",
              "  </div>\n",
              "  "
            ]
          },
          "metadata": {},
          "execution_count": 9
        }
      ],
      "source": [
        "# Открываем таблицу, пропуски обозначены через знаки вопроса, указываем при считывании\n",
        "df= pd.read_csv('/content/athletes.csv')\n",
        "df.head()"
      ]
    },
    {
      "cell_type": "markdown",
      "id": "9ef1e5f5",
      "metadata": {
        "id": "9ef1e5f5"
      },
      "source": [
        "### 1. Общая инфо и пропуски"
      ]
    },
    {
      "cell_type": "code",
      "execution_count": null,
      "id": "04c3f261",
      "metadata": {
        "id": "04c3f261",
        "outputId": "d60e4910-238d-4e60-c875-569c99daab47",
        "colab": {
          "base_uri": "https://localhost:8080/"
        }
      },
      "outputs": [
        {
          "output_type": "stream",
          "name": "stdout",
          "text": [
            "<class 'pandas.core.frame.DataFrame'>\n",
            "RangeIndex: 11538 entries, 0 to 11537\n",
            "Data columns (total 11 columns):\n",
            " #   Column       Non-Null Count  Dtype  \n",
            "---  ------       --------------  -----  \n",
            " 0   id           11538 non-null  int64  \n",
            " 1   name         11538 non-null  object \n",
            " 2   nationality  11538 non-null  object \n",
            " 3   sex          11538 non-null  object \n",
            " 4   dob          11537 non-null  object \n",
            " 5   height       11208 non-null  float64\n",
            " 6   weight       10879 non-null  float64\n",
            " 7   sport        11538 non-null  object \n",
            " 8   gold         11538 non-null  int64  \n",
            " 9   silver       11538 non-null  int64  \n",
            " 10  bronze       11538 non-null  int64  \n",
            "dtypes: float64(2), int64(4), object(5)\n",
            "memory usage: 991.7+ KB\n"
          ]
        }
      ],
      "source": [
        "df.info()"
      ]
    },
    {
      "cell_type": "markdown",
      "id": "3d4e0219",
      "metadata": {
        "id": "3d4e0219"
      },
      "source": [
        "При этом:  5 признаков строковых:\n",
        "name\n",
        "nationality\n",
        "sex\n",
        "dob\n",
        "sport"
      ]
    },
    {
      "cell_type": "markdown",
      "id": "75b4319a",
      "metadata": {
        "id": "75b4319a"
      },
      "source": [
        "## Работа с пропусками"
      ]
    },
    {
      "cell_type": "code",
      "execution_count": null,
      "id": "ce91c4aa",
      "metadata": {
        "id": "ce91c4aa",
        "outputId": "fe6915d7-68ca-42e5-b7d6-b43663ac2a8d",
        "colab": {
          "base_uri": "https://localhost:8080/",
          "height": 394
        }
      },
      "outputs": [
        {
          "output_type": "execute_result",
          "data": {
            "text/plain": [
              "             NaN  percent\n",
              "weight       659     5.71\n",
              "height       330     2.86\n",
              "dob            1     0.01\n",
              "id             0     0.00\n",
              "name           0     0.00\n",
              "nationality    0     0.00\n",
              "sex            0     0.00\n",
              "sport          0     0.00\n",
              "gold           0     0.00\n",
              "silver         0     0.00\n",
              "bronze         0     0.00"
            ],
            "text/html": [
              "\n",
              "  <div id=\"df-edc14051-a0b2-49cc-bcc8-add839282b01\">\n",
              "    <div class=\"colab-df-container\">\n",
              "      <div>\n",
              "<style scoped>\n",
              "    .dataframe tbody tr th:only-of-type {\n",
              "        vertical-align: middle;\n",
              "    }\n",
              "\n",
              "    .dataframe tbody tr th {\n",
              "        vertical-align: top;\n",
              "    }\n",
              "\n",
              "    .dataframe thead th {\n",
              "        text-align: right;\n",
              "    }\n",
              "</style>\n",
              "<table border=\"1\" class=\"dataframe\">\n",
              "  <thead>\n",
              "    <tr style=\"text-align: right;\">\n",
              "      <th></th>\n",
              "      <th>NaN</th>\n",
              "      <th>percent</th>\n",
              "    </tr>\n",
              "  </thead>\n",
              "  <tbody>\n",
              "    <tr>\n",
              "      <th>weight</th>\n",
              "      <td>659</td>\n",
              "      <td>5.71</td>\n",
              "    </tr>\n",
              "    <tr>\n",
              "      <th>height</th>\n",
              "      <td>330</td>\n",
              "      <td>2.86</td>\n",
              "    </tr>\n",
              "    <tr>\n",
              "      <th>dob</th>\n",
              "      <td>1</td>\n",
              "      <td>0.01</td>\n",
              "    </tr>\n",
              "    <tr>\n",
              "      <th>id</th>\n",
              "      <td>0</td>\n",
              "      <td>0.00</td>\n",
              "    </tr>\n",
              "    <tr>\n",
              "      <th>name</th>\n",
              "      <td>0</td>\n",
              "      <td>0.00</td>\n",
              "    </tr>\n",
              "    <tr>\n",
              "      <th>nationality</th>\n",
              "      <td>0</td>\n",
              "      <td>0.00</td>\n",
              "    </tr>\n",
              "    <tr>\n",
              "      <th>sex</th>\n",
              "      <td>0</td>\n",
              "      <td>0.00</td>\n",
              "    </tr>\n",
              "    <tr>\n",
              "      <th>sport</th>\n",
              "      <td>0</td>\n",
              "      <td>0.00</td>\n",
              "    </tr>\n",
              "    <tr>\n",
              "      <th>gold</th>\n",
              "      <td>0</td>\n",
              "      <td>0.00</td>\n",
              "    </tr>\n",
              "    <tr>\n",
              "      <th>silver</th>\n",
              "      <td>0</td>\n",
              "      <td>0.00</td>\n",
              "    </tr>\n",
              "    <tr>\n",
              "      <th>bronze</th>\n",
              "      <td>0</td>\n",
              "      <td>0.00</td>\n",
              "    </tr>\n",
              "  </tbody>\n",
              "</table>\n",
              "</div>\n",
              "      <button class=\"colab-df-convert\" onclick=\"convertToInteractive('df-edc14051-a0b2-49cc-bcc8-add839282b01')\"\n",
              "              title=\"Convert this dataframe to an interactive table.\"\n",
              "              style=\"display:none;\">\n",
              "        \n",
              "  <svg xmlns=\"http://www.w3.org/2000/svg\" height=\"24px\"viewBox=\"0 0 24 24\"\n",
              "       width=\"24px\">\n",
              "    <path d=\"M0 0h24v24H0V0z\" fill=\"none\"/>\n",
              "    <path d=\"M18.56 5.44l.94 2.06.94-2.06 2.06-.94-2.06-.94-.94-2.06-.94 2.06-2.06.94zm-11 1L8.5 8.5l.94-2.06 2.06-.94-2.06-.94L8.5 2.5l-.94 2.06-2.06.94zm10 10l.94 2.06.94-2.06 2.06-.94-2.06-.94-.94-2.06-.94 2.06-2.06.94z\"/><path d=\"M17.41 7.96l-1.37-1.37c-.4-.4-.92-.59-1.43-.59-.52 0-1.04.2-1.43.59L10.3 9.45l-7.72 7.72c-.78.78-.78 2.05 0 2.83L4 21.41c.39.39.9.59 1.41.59.51 0 1.02-.2 1.41-.59l7.78-7.78 2.81-2.81c.8-.78.8-2.07 0-2.86zM5.41 20L4 18.59l7.72-7.72 1.47 1.35L5.41 20z\"/>\n",
              "  </svg>\n",
              "      </button>\n",
              "      \n",
              "  <style>\n",
              "    .colab-df-container {\n",
              "      display:flex;\n",
              "      flex-wrap:wrap;\n",
              "      gap: 12px;\n",
              "    }\n",
              "\n",
              "    .colab-df-convert {\n",
              "      background-color: #E8F0FE;\n",
              "      border: none;\n",
              "      border-radius: 50%;\n",
              "      cursor: pointer;\n",
              "      display: none;\n",
              "      fill: #1967D2;\n",
              "      height: 32px;\n",
              "      padding: 0 0 0 0;\n",
              "      width: 32px;\n",
              "    }\n",
              "\n",
              "    .colab-df-convert:hover {\n",
              "      background-color: #E2EBFA;\n",
              "      box-shadow: 0px 1px 2px rgba(60, 64, 67, 0.3), 0px 1px 3px 1px rgba(60, 64, 67, 0.15);\n",
              "      fill: #174EA6;\n",
              "    }\n",
              "\n",
              "    [theme=dark] .colab-df-convert {\n",
              "      background-color: #3B4455;\n",
              "      fill: #D2E3FC;\n",
              "    }\n",
              "\n",
              "    [theme=dark] .colab-df-convert:hover {\n",
              "      background-color: #434B5C;\n",
              "      box-shadow: 0px 1px 3px 1px rgba(0, 0, 0, 0.15);\n",
              "      filter: drop-shadow(0px 1px 2px rgba(0, 0, 0, 0.3));\n",
              "      fill: #FFFFFF;\n",
              "    }\n",
              "  </style>\n",
              "\n",
              "      <script>\n",
              "        const buttonEl =\n",
              "          document.querySelector('#df-edc14051-a0b2-49cc-bcc8-add839282b01 button.colab-df-convert');\n",
              "        buttonEl.style.display =\n",
              "          google.colab.kernel.accessAllowed ? 'block' : 'none';\n",
              "\n",
              "        async function convertToInteractive(key) {\n",
              "          const element = document.querySelector('#df-edc14051-a0b2-49cc-bcc8-add839282b01');\n",
              "          const dataTable =\n",
              "            await google.colab.kernel.invokeFunction('convertToInteractive',\n",
              "                                                     [key], {});\n",
              "          if (!dataTable) return;\n",
              "\n",
              "          const docLinkHtml = 'Like what you see? Visit the ' +\n",
              "            '<a target=\"_blank\" href=https://colab.research.google.com/notebooks/data_table.ipynb>data table notebook</a>'\n",
              "            + ' to learn more about interactive tables.';\n",
              "          element.innerHTML = '';\n",
              "          dataTable['output_type'] = 'display_data';\n",
              "          await google.colab.output.renderOutput(dataTable, element);\n",
              "          const docLink = document.createElement('div');\n",
              "          docLink.innerHTML = docLinkHtml;\n",
              "          element.appendChild(docLink);\n",
              "        }\n",
              "      </script>\n",
              "    </div>\n",
              "  </div>\n",
              "  "
            ]
          },
          "metadata": {},
          "execution_count": 11
        }
      ],
      "source": [
        "# Количество пропусков. Создадим фрейм с двумя столбцами: абсолютными и относительными величинами\n",
        "null_values=pd.DataFrame(df.isna().sum(),columns=['NaN'])\n",
        "null_values['percent'] = (df.isna().mean() * 100)\n",
        "null_values.sort_values('percent',ascending=False).round(2)"
      ]
    },
    {
      "cell_type": "markdown",
      "id": "59335b40",
      "metadata": {
        "id": "59335b40"
      },
      "source": [
        "У нас отсутствуют данные по весу и росту. Рост можно взять медиану от вида спорта и пола. А вес- взаимосвязь с полом и ростом."
      ]
    },
    {
      "cell_type": "code",
      "execution_count": null,
      "id": "2b20ae22",
      "metadata": {
        "id": "2b20ae22",
        "outputId": "a737d974-d9e8-47e6-fd31-cd6d2794a7ae",
        "colab": {
          "base_uri": "https://localhost:8080/"
        }
      },
      "outputs": [
        {
          "output_type": "stream",
          "name": "stdout",
          "text": [
            "sport              sex   \n",
            "aquatics           female    1.720\n",
            "                   male      1.870\n",
            "archery            female    1.680\n",
            "                   male      1.800\n",
            "athletics          female    1.690\n",
            "                   male      1.810\n",
            "badminton          female    1.680\n",
            "                   male      1.800\n",
            "basketball         female    1.850\n",
            "                   male      2.010\n",
            "boxing             female    1.680\n",
            "                   male      1.750\n",
            "canoe              female    1.700\n",
            "                   male      1.830\n",
            "cycling            female    1.670\n",
            "                   male      1.800\n",
            "equestrian         female    1.680\n",
            "                   male      1.790\n",
            "fencing            female    1.715\n",
            "                   male      1.830\n",
            "football           female    1.680\n",
            "                   male      1.800\n",
            "golf               female    1.680\n",
            "                   male      1.800\n",
            "gymnastics         female    1.630\n",
            "                   male      1.670\n",
            "handball           female    1.760\n",
            "                   male      1.910\n",
            "hockey             female    1.670\n",
            "                   male      1.800\n",
            "judo               female    1.650\n",
            "                   male      1.785\n",
            "modern pentathlon  female    1.690\n",
            "                   male      1.815\n",
            "rowing             female    1.785\n",
            "                   male      1.900\n",
            "rugby sevens       female    1.680\n",
            "                   male      1.835\n",
            "sailing            female    1.700\n",
            "                   male      1.810\n",
            "shooting           female    1.645\n",
            "                   male      1.770\n",
            "table tennis       female    1.660\n",
            "                   male      1.785\n",
            "taekwondo          female    1.730\n",
            "                   male      1.865\n",
            "tennis             female    1.740\n",
            "                   male      1.860\n",
            "triathlon          female    1.680\n",
            "                   male      1.795\n",
            "volleyball         female    1.830\n",
            "                   male      1.970\n",
            "weightlifting      female    1.600\n",
            "                   male      1.700\n",
            "wrestling          female    1.650\n",
            "                   male      1.750\n",
            "Name: height, dtype: float64\n"
          ]
        }
      ],
      "source": [
        "df_fill = df.copy()\n",
        "#Проверим медиану при группировке по полу и спорту\n",
        "print(df.groupby(['sport', 'sex'])['height'].median())\n",
        "df_fill['height'] = df['height'].fillna(df.groupby(['sport', 'sex'])['height'].transform('median'))"
      ]
    },
    {
      "cell_type": "code",
      "execution_count": null,
      "id": "3875fa08",
      "metadata": {
        "id": "3875fa08"
      },
      "outputs": [],
      "source": [
        "#Для работы с пропусками сделаем биннинг роста с равным количеством наблюдей внутри одного бина.\n",
        "df_fill['height_bin'] = pd.qcut(df_fill['height'], 5)"
      ]
    },
    {
      "cell_type": "code",
      "execution_count": null,
      "id": "4bc8d450",
      "metadata": {
        "scrolled": true,
        "id": "4bc8d450",
        "outputId": "b1d460dd-345b-423d-989b-400aea15ffb0",
        "colab": {
          "base_uri": "https://localhost:8080/"
        }
      },
      "outputs": [
        {
          "output_type": "stream",
          "name": "stdout",
          "text": [
            "height_bin     sex   \n",
            "(1.209, 1.67]  female    55.0\n",
            "               male      60.0\n",
            "(1.67, 1.73]   female    62.0\n",
            "               male      67.0\n",
            "(1.73, 1.8]    female    67.0\n",
            "               male      73.0\n",
            "(1.8, 1.86]    female    74.0\n",
            "               male      79.0\n",
            "(1.86, 2.21]   female    78.0\n",
            "               male      90.0\n",
            "Name: weight, dtype: float64\n"
          ]
        }
      ],
      "source": [
        "#Проверим медиану при группировке по росту и полу\n",
        "print(df_fill.groupby(['height_bin', 'sex'])['weight'].median())\n",
        "df_fill['weight'] = df_fill['weight'].fillna(df_fill.groupby(['height_bin', 'sex'])['weight'].transform('median'))"
      ]
    },
    {
      "cell_type": "code",
      "execution_count": null,
      "id": "79e97112",
      "metadata": {
        "id": "79e97112",
        "outputId": "b5ef5e54-8f6c-4fb8-c591-be4057ca55c1",
        "colab": {
          "base_uri": "https://localhost:8080/",
          "height": 81
        }
      },
      "outputs": [
        {
          "output_type": "execute_result",
          "data": {
            "text/plain": [
              "             id           name nationality   sex  dob  height  weight  \\\n",
              "8546  663676373  Pavel Sozykin         RUS  male  NaN    1.81    79.0   \n",
              "\n",
              "        sport  gold  silver  bronze   height_bin  \n",
              "8546  sailing     0       0       0  (1.8, 1.86]  "
            ],
            "text/html": [
              "\n",
              "  <div id=\"df-bcfa7e7e-e3f2-47fd-bc22-c6481789628d\">\n",
              "    <div class=\"colab-df-container\">\n",
              "      <div>\n",
              "<style scoped>\n",
              "    .dataframe tbody tr th:only-of-type {\n",
              "        vertical-align: middle;\n",
              "    }\n",
              "\n",
              "    .dataframe tbody tr th {\n",
              "        vertical-align: top;\n",
              "    }\n",
              "\n",
              "    .dataframe thead th {\n",
              "        text-align: right;\n",
              "    }\n",
              "</style>\n",
              "<table border=\"1\" class=\"dataframe\">\n",
              "  <thead>\n",
              "    <tr style=\"text-align: right;\">\n",
              "      <th></th>\n",
              "      <th>id</th>\n",
              "      <th>name</th>\n",
              "      <th>nationality</th>\n",
              "      <th>sex</th>\n",
              "      <th>dob</th>\n",
              "      <th>height</th>\n",
              "      <th>weight</th>\n",
              "      <th>sport</th>\n",
              "      <th>gold</th>\n",
              "      <th>silver</th>\n",
              "      <th>bronze</th>\n",
              "      <th>height_bin</th>\n",
              "    </tr>\n",
              "  </thead>\n",
              "  <tbody>\n",
              "    <tr>\n",
              "      <th>8546</th>\n",
              "      <td>663676373</td>\n",
              "      <td>Pavel Sozykin</td>\n",
              "      <td>RUS</td>\n",
              "      <td>male</td>\n",
              "      <td>NaN</td>\n",
              "      <td>1.81</td>\n",
              "      <td>79.0</td>\n",
              "      <td>sailing</td>\n",
              "      <td>0</td>\n",
              "      <td>0</td>\n",
              "      <td>0</td>\n",
              "      <td>(1.8, 1.86]</td>\n",
              "    </tr>\n",
              "  </tbody>\n",
              "</table>\n",
              "</div>\n",
              "      <button class=\"colab-df-convert\" onclick=\"convertToInteractive('df-bcfa7e7e-e3f2-47fd-bc22-c6481789628d')\"\n",
              "              title=\"Convert this dataframe to an interactive table.\"\n",
              "              style=\"display:none;\">\n",
              "        \n",
              "  <svg xmlns=\"http://www.w3.org/2000/svg\" height=\"24px\"viewBox=\"0 0 24 24\"\n",
              "       width=\"24px\">\n",
              "    <path d=\"M0 0h24v24H0V0z\" fill=\"none\"/>\n",
              "    <path d=\"M18.56 5.44l.94 2.06.94-2.06 2.06-.94-2.06-.94-.94-2.06-.94 2.06-2.06.94zm-11 1L8.5 8.5l.94-2.06 2.06-.94-2.06-.94L8.5 2.5l-.94 2.06-2.06.94zm10 10l.94 2.06.94-2.06 2.06-.94-2.06-.94-.94-2.06-.94 2.06-2.06.94z\"/><path d=\"M17.41 7.96l-1.37-1.37c-.4-.4-.92-.59-1.43-.59-.52 0-1.04.2-1.43.59L10.3 9.45l-7.72 7.72c-.78.78-.78 2.05 0 2.83L4 21.41c.39.39.9.59 1.41.59.51 0 1.02-.2 1.41-.59l7.78-7.78 2.81-2.81c.8-.78.8-2.07 0-2.86zM5.41 20L4 18.59l7.72-7.72 1.47 1.35L5.41 20z\"/>\n",
              "  </svg>\n",
              "      </button>\n",
              "      \n",
              "  <style>\n",
              "    .colab-df-container {\n",
              "      display:flex;\n",
              "      flex-wrap:wrap;\n",
              "      gap: 12px;\n",
              "    }\n",
              "\n",
              "    .colab-df-convert {\n",
              "      background-color: #E8F0FE;\n",
              "      border: none;\n",
              "      border-radius: 50%;\n",
              "      cursor: pointer;\n",
              "      display: none;\n",
              "      fill: #1967D2;\n",
              "      height: 32px;\n",
              "      padding: 0 0 0 0;\n",
              "      width: 32px;\n",
              "    }\n",
              "\n",
              "    .colab-df-convert:hover {\n",
              "      background-color: #E2EBFA;\n",
              "      box-shadow: 0px 1px 2px rgba(60, 64, 67, 0.3), 0px 1px 3px 1px rgba(60, 64, 67, 0.15);\n",
              "      fill: #174EA6;\n",
              "    }\n",
              "\n",
              "    [theme=dark] .colab-df-convert {\n",
              "      background-color: #3B4455;\n",
              "      fill: #D2E3FC;\n",
              "    }\n",
              "\n",
              "    [theme=dark] .colab-df-convert:hover {\n",
              "      background-color: #434B5C;\n",
              "      box-shadow: 0px 1px 3px 1px rgba(0, 0, 0, 0.15);\n",
              "      filter: drop-shadow(0px 1px 2px rgba(0, 0, 0, 0.3));\n",
              "      fill: #FFFFFF;\n",
              "    }\n",
              "  </style>\n",
              "\n",
              "      <script>\n",
              "        const buttonEl =\n",
              "          document.querySelector('#df-bcfa7e7e-e3f2-47fd-bc22-c6481789628d button.colab-df-convert');\n",
              "        buttonEl.style.display =\n",
              "          google.colab.kernel.accessAllowed ? 'block' : 'none';\n",
              "\n",
              "        async function convertToInteractive(key) {\n",
              "          const element = document.querySelector('#df-bcfa7e7e-e3f2-47fd-bc22-c6481789628d');\n",
              "          const dataTable =\n",
              "            await google.colab.kernel.invokeFunction('convertToInteractive',\n",
              "                                                     [key], {});\n",
              "          if (!dataTable) return;\n",
              "\n",
              "          const docLinkHtml = 'Like what you see? Visit the ' +\n",
              "            '<a target=\"_blank\" href=https://colab.research.google.com/notebooks/data_table.ipynb>data table notebook</a>'\n",
              "            + ' to learn more about interactive tables.';\n",
              "          element.innerHTML = '';\n",
              "          dataTable['output_type'] = 'display_data';\n",
              "          await google.colab.output.renderOutput(dataTable, element);\n",
              "          const docLink = document.createElement('div');\n",
              "          docLink.innerHTML = docLinkHtml;\n",
              "          element.appendChild(docLink);\n",
              "        }\n",
              "      </script>\n",
              "    </div>\n",
              "  </div>\n",
              "  "
            ]
          },
          "metadata": {},
          "execution_count": 15
        }
      ],
      "source": [
        "df_fill[df_fill['dob'].isna()].head()"
      ]
    },
    {
      "cell_type": "markdown",
      "id": "1a16e17f",
      "metadata": {
        "id": "1a16e17f"
      },
      "source": [
        "Возможно данные нам и не пригодятся, но для одного случая на такую тему можно и погуглить. Находим Павла Созыкина, яхтсмена, с датой рождения 25 декабря 1987"
      ]
    },
    {
      "cell_type": "code",
      "execution_count": null,
      "id": "9b63229d",
      "metadata": {
        "id": "9b63229d"
      },
      "outputs": [],
      "source": [
        "df_fill.loc[(df_fill['name'] == 'Pavel Sozykin'),'dob'] = '12/25/87'"
      ]
    },
    {
      "cell_type": "code",
      "execution_count": null,
      "id": "cd376bfe",
      "metadata": {
        "id": "cd376bfe",
        "outputId": "a19ea985-52c5-4fa1-aeef-526f22a59250",
        "colab": {
          "base_uri": "https://localhost:8080/",
          "height": 426
        }
      },
      "outputs": [
        {
          "output_type": "execute_result",
          "data": {
            "text/plain": [
              "             NaN  percent\n",
              "id             0      0.0\n",
              "name           0      0.0\n",
              "nationality    0      0.0\n",
              "sex            0      0.0\n",
              "dob            0      0.0\n",
              "height         0      0.0\n",
              "weight         0      0.0\n",
              "sport          0      0.0\n",
              "gold           0      0.0\n",
              "silver         0      0.0\n",
              "bronze         0      0.0\n",
              "height_bin     0      0.0"
            ],
            "text/html": [
              "\n",
              "  <div id=\"df-8e1bedd2-0eb8-43e1-b08b-7cb1ae546767\">\n",
              "    <div class=\"colab-df-container\">\n",
              "      <div>\n",
              "<style scoped>\n",
              "    .dataframe tbody tr th:only-of-type {\n",
              "        vertical-align: middle;\n",
              "    }\n",
              "\n",
              "    .dataframe tbody tr th {\n",
              "        vertical-align: top;\n",
              "    }\n",
              "\n",
              "    .dataframe thead th {\n",
              "        text-align: right;\n",
              "    }\n",
              "</style>\n",
              "<table border=\"1\" class=\"dataframe\">\n",
              "  <thead>\n",
              "    <tr style=\"text-align: right;\">\n",
              "      <th></th>\n",
              "      <th>NaN</th>\n",
              "      <th>percent</th>\n",
              "    </tr>\n",
              "  </thead>\n",
              "  <tbody>\n",
              "    <tr>\n",
              "      <th>id</th>\n",
              "      <td>0</td>\n",
              "      <td>0.0</td>\n",
              "    </tr>\n",
              "    <tr>\n",
              "      <th>name</th>\n",
              "      <td>0</td>\n",
              "      <td>0.0</td>\n",
              "    </tr>\n",
              "    <tr>\n",
              "      <th>nationality</th>\n",
              "      <td>0</td>\n",
              "      <td>0.0</td>\n",
              "    </tr>\n",
              "    <tr>\n",
              "      <th>sex</th>\n",
              "      <td>0</td>\n",
              "      <td>0.0</td>\n",
              "    </tr>\n",
              "    <tr>\n",
              "      <th>dob</th>\n",
              "      <td>0</td>\n",
              "      <td>0.0</td>\n",
              "    </tr>\n",
              "    <tr>\n",
              "      <th>height</th>\n",
              "      <td>0</td>\n",
              "      <td>0.0</td>\n",
              "    </tr>\n",
              "    <tr>\n",
              "      <th>weight</th>\n",
              "      <td>0</td>\n",
              "      <td>0.0</td>\n",
              "    </tr>\n",
              "    <tr>\n",
              "      <th>sport</th>\n",
              "      <td>0</td>\n",
              "      <td>0.0</td>\n",
              "    </tr>\n",
              "    <tr>\n",
              "      <th>gold</th>\n",
              "      <td>0</td>\n",
              "      <td>0.0</td>\n",
              "    </tr>\n",
              "    <tr>\n",
              "      <th>silver</th>\n",
              "      <td>0</td>\n",
              "      <td>0.0</td>\n",
              "    </tr>\n",
              "    <tr>\n",
              "      <th>bronze</th>\n",
              "      <td>0</td>\n",
              "      <td>0.0</td>\n",
              "    </tr>\n",
              "    <tr>\n",
              "      <th>height_bin</th>\n",
              "      <td>0</td>\n",
              "      <td>0.0</td>\n",
              "    </tr>\n",
              "  </tbody>\n",
              "</table>\n",
              "</div>\n",
              "      <button class=\"colab-df-convert\" onclick=\"convertToInteractive('df-8e1bedd2-0eb8-43e1-b08b-7cb1ae546767')\"\n",
              "              title=\"Convert this dataframe to an interactive table.\"\n",
              "              style=\"display:none;\">\n",
              "        \n",
              "  <svg xmlns=\"http://www.w3.org/2000/svg\" height=\"24px\"viewBox=\"0 0 24 24\"\n",
              "       width=\"24px\">\n",
              "    <path d=\"M0 0h24v24H0V0z\" fill=\"none\"/>\n",
              "    <path d=\"M18.56 5.44l.94 2.06.94-2.06 2.06-.94-2.06-.94-.94-2.06-.94 2.06-2.06.94zm-11 1L8.5 8.5l.94-2.06 2.06-.94-2.06-.94L8.5 2.5l-.94 2.06-2.06.94zm10 10l.94 2.06.94-2.06 2.06-.94-2.06-.94-.94-2.06-.94 2.06-2.06.94z\"/><path d=\"M17.41 7.96l-1.37-1.37c-.4-.4-.92-.59-1.43-.59-.52 0-1.04.2-1.43.59L10.3 9.45l-7.72 7.72c-.78.78-.78 2.05 0 2.83L4 21.41c.39.39.9.59 1.41.59.51 0 1.02-.2 1.41-.59l7.78-7.78 2.81-2.81c.8-.78.8-2.07 0-2.86zM5.41 20L4 18.59l7.72-7.72 1.47 1.35L5.41 20z\"/>\n",
              "  </svg>\n",
              "      </button>\n",
              "      \n",
              "  <style>\n",
              "    .colab-df-container {\n",
              "      display:flex;\n",
              "      flex-wrap:wrap;\n",
              "      gap: 12px;\n",
              "    }\n",
              "\n",
              "    .colab-df-convert {\n",
              "      background-color: #E8F0FE;\n",
              "      border: none;\n",
              "      border-radius: 50%;\n",
              "      cursor: pointer;\n",
              "      display: none;\n",
              "      fill: #1967D2;\n",
              "      height: 32px;\n",
              "      padding: 0 0 0 0;\n",
              "      width: 32px;\n",
              "    }\n",
              "\n",
              "    .colab-df-convert:hover {\n",
              "      background-color: #E2EBFA;\n",
              "      box-shadow: 0px 1px 2px rgba(60, 64, 67, 0.3), 0px 1px 3px 1px rgba(60, 64, 67, 0.15);\n",
              "      fill: #174EA6;\n",
              "    }\n",
              "\n",
              "    [theme=dark] .colab-df-convert {\n",
              "      background-color: #3B4455;\n",
              "      fill: #D2E3FC;\n",
              "    }\n",
              "\n",
              "    [theme=dark] .colab-df-convert:hover {\n",
              "      background-color: #434B5C;\n",
              "      box-shadow: 0px 1px 3px 1px rgba(0, 0, 0, 0.15);\n",
              "      filter: drop-shadow(0px 1px 2px rgba(0, 0, 0, 0.3));\n",
              "      fill: #FFFFFF;\n",
              "    }\n",
              "  </style>\n",
              "\n",
              "      <script>\n",
              "        const buttonEl =\n",
              "          document.querySelector('#df-8e1bedd2-0eb8-43e1-b08b-7cb1ae546767 button.colab-df-convert');\n",
              "        buttonEl.style.display =\n",
              "          google.colab.kernel.accessAllowed ? 'block' : 'none';\n",
              "\n",
              "        async function convertToInteractive(key) {\n",
              "          const element = document.querySelector('#df-8e1bedd2-0eb8-43e1-b08b-7cb1ae546767');\n",
              "          const dataTable =\n",
              "            await google.colab.kernel.invokeFunction('convertToInteractive',\n",
              "                                                     [key], {});\n",
              "          if (!dataTable) return;\n",
              "\n",
              "          const docLinkHtml = 'Like what you see? Visit the ' +\n",
              "            '<a target=\"_blank\" href=https://colab.research.google.com/notebooks/data_table.ipynb>data table notebook</a>'\n",
              "            + ' to learn more about interactive tables.';\n",
              "          element.innerHTML = '';\n",
              "          dataTable['output_type'] = 'display_data';\n",
              "          await google.colab.output.renderOutput(dataTable, element);\n",
              "          const docLink = document.createElement('div');\n",
              "          docLink.innerHTML = docLinkHtml;\n",
              "          element.appendChild(docLink);\n",
              "        }\n",
              "      </script>\n",
              "    </div>\n",
              "  </div>\n",
              "  "
            ]
          },
          "metadata": {},
          "execution_count": 17
        }
      ],
      "source": [
        "# Количество пропусков. Создадим фрейм с двумя столбцами: абсолютными и относительными величинами\n",
        "null_values=pd.DataFrame(df_fill.isna().sum(),columns=['NaN'])\n",
        "null_values['percent'] = (df_fill.isna().mean() * 100)\n",
        "null_values.sort_values('percent',ascending=False).round(2)"
      ]
    },
    {
      "cell_type": "markdown",
      "id": "c8ae5aec",
      "metadata": {
        "id": "c8ae5aec"
      },
      "source": [
        "Имя, в принципе, тоже важно для определения пола. Выцепим из колонки с ФИ имя. Сложность в том, что это мультинациональная таблица, бывает и по 3, 4 имени. И тут надо подстраиваться под страну, но для наших целей возмем 1 - имя, последнее - фамилия"
      ]
    },
    {
      "cell_type": "code",
      "execution_count": null,
      "id": "ac3ccf7d",
      "metadata": {
        "id": "ac3ccf7d"
      },
      "outputs": [],
      "source": [
        "df_fill['firstName'] = df_fill['name'].astype(str).str.split().str[0] #Переводим в строчку и разбиваем строчку, берем 0 значение\n",
        "df_fill['lastName'] = df_fill['name'].astype(str).str.split().str[-1]"
      ]
    },
    {
      "cell_type": "code",
      "execution_count": null,
      "id": "7128f50b",
      "metadata": {
        "id": "7128f50b",
        "outputId": "56654796-5fc4-44a4-cef4-5764de013808",
        "colab": {
          "base_uri": "https://localhost:8080/",
          "height": 424
        }
      },
      "outputs": [
        {
          "output_type": "execute_result",
          "data": {
            "text/plain": [
              "              id                      name nationality     sex       dob  \\\n",
              "0      736041664            A Jesus Garcia         ESP    male  10/17/69   \n",
              "1      532037425                A Lam Shin         KOR  female   9/23/86   \n",
              "8       87689776       Aauri Lorena Bokesa         ESP  female  12/14/88   \n",
              "11     591319906      Abbas Abubakar Abbas         BRN    male   5/17/96   \n",
              "19     334169879  Abd Elhalim Mohamed Abou         EGY    male    6/3/89   \n",
              "...          ...                       ...         ...     ...       ...   \n",
              "11514  424586991         Zohra Ez Zahraoui         MAR  female  11/18/83   \n",
              "11517  495365659        Zoltan Adam Harcsa         HUN    male  11/20/92   \n",
              "11521  281890328  Zoulehia Abzetta Dabonne         CIV  female  12/15/92   \n",
              "11536  900065925         le Quoc Toan Tran         VIE    male    4/5/89   \n",
              "11537  711404576            le Roux Hamman         RSA    male    1/6/92   \n",
              "\n",
              "       height  weight          sport  gold  silver  bronze     height_bin  \\\n",
              "0        1.72    64.0      athletics     0       0       0   (1.67, 1.73]   \n",
              "1        1.68    56.0        fencing     0       0       0   (1.67, 1.73]   \n",
              "8        1.80    62.0      athletics     0       0       0    (1.73, 1.8]   \n",
              "11       1.75    66.0      athletics     0       0       0    (1.73, 1.8]   \n",
              "19       2.10    88.0     volleyball     0       0       0   (1.86, 2.21]   \n",
              "...       ...     ...            ...   ...     ...     ...            ...   \n",
              "11514    1.65    55.0         boxing     0       0       0  (1.209, 1.67]   \n",
              "11517    1.84    79.0         boxing     0       0       0    (1.8, 1.86]   \n",
              "11521    1.75    57.0           judo     0       0       0    (1.73, 1.8]   \n",
              "11536    1.60    56.0  weightlifting     0       0       0  (1.209, 1.67]   \n",
              "11537    1.85    70.0      athletics     0       0       0    (1.8, 1.86]   \n",
              "\n",
              "      firstName  lastName  \n",
              "0             A    Garcia  \n",
              "1             A      Shin  \n",
              "8         Aauri    Bokesa  \n",
              "11        Abbas     Abbas  \n",
              "19          Abd      Abou  \n",
              "...         ...       ...  \n",
              "11514     Zohra  Zahraoui  \n",
              "11517    Zoltan    Harcsa  \n",
              "11521  Zoulehia   Dabonne  \n",
              "11536        le      Tran  \n",
              "11537        le    Hamman  \n",
              "\n",
              "[1570 rows x 14 columns]"
            ],
            "text/html": [
              "\n",
              "  <div id=\"df-3b947814-6c91-4cb0-ac0b-cb8b26ad4b93\">\n",
              "    <div class=\"colab-df-container\">\n",
              "      <div>\n",
              "<style scoped>\n",
              "    .dataframe tbody tr th:only-of-type {\n",
              "        vertical-align: middle;\n",
              "    }\n",
              "\n",
              "    .dataframe tbody tr th {\n",
              "        vertical-align: top;\n",
              "    }\n",
              "\n",
              "    .dataframe thead th {\n",
              "        text-align: right;\n",
              "    }\n",
              "</style>\n",
              "<table border=\"1\" class=\"dataframe\">\n",
              "  <thead>\n",
              "    <tr style=\"text-align: right;\">\n",
              "      <th></th>\n",
              "      <th>id</th>\n",
              "      <th>name</th>\n",
              "      <th>nationality</th>\n",
              "      <th>sex</th>\n",
              "      <th>dob</th>\n",
              "      <th>height</th>\n",
              "      <th>weight</th>\n",
              "      <th>sport</th>\n",
              "      <th>gold</th>\n",
              "      <th>silver</th>\n",
              "      <th>bronze</th>\n",
              "      <th>height_bin</th>\n",
              "      <th>firstName</th>\n",
              "      <th>lastName</th>\n",
              "    </tr>\n",
              "  </thead>\n",
              "  <tbody>\n",
              "    <tr>\n",
              "      <th>0</th>\n",
              "      <td>736041664</td>\n",
              "      <td>A Jesus Garcia</td>\n",
              "      <td>ESP</td>\n",
              "      <td>male</td>\n",
              "      <td>10/17/69</td>\n",
              "      <td>1.72</td>\n",
              "      <td>64.0</td>\n",
              "      <td>athletics</td>\n",
              "      <td>0</td>\n",
              "      <td>0</td>\n",
              "      <td>0</td>\n",
              "      <td>(1.67, 1.73]</td>\n",
              "      <td>A</td>\n",
              "      <td>Garcia</td>\n",
              "    </tr>\n",
              "    <tr>\n",
              "      <th>1</th>\n",
              "      <td>532037425</td>\n",
              "      <td>A Lam Shin</td>\n",
              "      <td>KOR</td>\n",
              "      <td>female</td>\n",
              "      <td>9/23/86</td>\n",
              "      <td>1.68</td>\n",
              "      <td>56.0</td>\n",
              "      <td>fencing</td>\n",
              "      <td>0</td>\n",
              "      <td>0</td>\n",
              "      <td>0</td>\n",
              "      <td>(1.67, 1.73]</td>\n",
              "      <td>A</td>\n",
              "      <td>Shin</td>\n",
              "    </tr>\n",
              "    <tr>\n",
              "      <th>8</th>\n",
              "      <td>87689776</td>\n",
              "      <td>Aauri Lorena Bokesa</td>\n",
              "      <td>ESP</td>\n",
              "      <td>female</td>\n",
              "      <td>12/14/88</td>\n",
              "      <td>1.80</td>\n",
              "      <td>62.0</td>\n",
              "      <td>athletics</td>\n",
              "      <td>0</td>\n",
              "      <td>0</td>\n",
              "      <td>0</td>\n",
              "      <td>(1.73, 1.8]</td>\n",
              "      <td>Aauri</td>\n",
              "      <td>Bokesa</td>\n",
              "    </tr>\n",
              "    <tr>\n",
              "      <th>11</th>\n",
              "      <td>591319906</td>\n",
              "      <td>Abbas Abubakar Abbas</td>\n",
              "      <td>BRN</td>\n",
              "      <td>male</td>\n",
              "      <td>5/17/96</td>\n",
              "      <td>1.75</td>\n",
              "      <td>66.0</td>\n",
              "      <td>athletics</td>\n",
              "      <td>0</td>\n",
              "      <td>0</td>\n",
              "      <td>0</td>\n",
              "      <td>(1.73, 1.8]</td>\n",
              "      <td>Abbas</td>\n",
              "      <td>Abbas</td>\n",
              "    </tr>\n",
              "    <tr>\n",
              "      <th>19</th>\n",
              "      <td>334169879</td>\n",
              "      <td>Abd Elhalim Mohamed Abou</td>\n",
              "      <td>EGY</td>\n",
              "      <td>male</td>\n",
              "      <td>6/3/89</td>\n",
              "      <td>2.10</td>\n",
              "      <td>88.0</td>\n",
              "      <td>volleyball</td>\n",
              "      <td>0</td>\n",
              "      <td>0</td>\n",
              "      <td>0</td>\n",
              "      <td>(1.86, 2.21]</td>\n",
              "      <td>Abd</td>\n",
              "      <td>Abou</td>\n",
              "    </tr>\n",
              "    <tr>\n",
              "      <th>...</th>\n",
              "      <td>...</td>\n",
              "      <td>...</td>\n",
              "      <td>...</td>\n",
              "      <td>...</td>\n",
              "      <td>...</td>\n",
              "      <td>...</td>\n",
              "      <td>...</td>\n",
              "      <td>...</td>\n",
              "      <td>...</td>\n",
              "      <td>...</td>\n",
              "      <td>...</td>\n",
              "      <td>...</td>\n",
              "      <td>...</td>\n",
              "      <td>...</td>\n",
              "    </tr>\n",
              "    <tr>\n",
              "      <th>11514</th>\n",
              "      <td>424586991</td>\n",
              "      <td>Zohra Ez Zahraoui</td>\n",
              "      <td>MAR</td>\n",
              "      <td>female</td>\n",
              "      <td>11/18/83</td>\n",
              "      <td>1.65</td>\n",
              "      <td>55.0</td>\n",
              "      <td>boxing</td>\n",
              "      <td>0</td>\n",
              "      <td>0</td>\n",
              "      <td>0</td>\n",
              "      <td>(1.209, 1.67]</td>\n",
              "      <td>Zohra</td>\n",
              "      <td>Zahraoui</td>\n",
              "    </tr>\n",
              "    <tr>\n",
              "      <th>11517</th>\n",
              "      <td>495365659</td>\n",
              "      <td>Zoltan Adam Harcsa</td>\n",
              "      <td>HUN</td>\n",
              "      <td>male</td>\n",
              "      <td>11/20/92</td>\n",
              "      <td>1.84</td>\n",
              "      <td>79.0</td>\n",
              "      <td>boxing</td>\n",
              "      <td>0</td>\n",
              "      <td>0</td>\n",
              "      <td>0</td>\n",
              "      <td>(1.8, 1.86]</td>\n",
              "      <td>Zoltan</td>\n",
              "      <td>Harcsa</td>\n",
              "    </tr>\n",
              "    <tr>\n",
              "      <th>11521</th>\n",
              "      <td>281890328</td>\n",
              "      <td>Zoulehia Abzetta Dabonne</td>\n",
              "      <td>CIV</td>\n",
              "      <td>female</td>\n",
              "      <td>12/15/92</td>\n",
              "      <td>1.75</td>\n",
              "      <td>57.0</td>\n",
              "      <td>judo</td>\n",
              "      <td>0</td>\n",
              "      <td>0</td>\n",
              "      <td>0</td>\n",
              "      <td>(1.73, 1.8]</td>\n",
              "      <td>Zoulehia</td>\n",
              "      <td>Dabonne</td>\n",
              "    </tr>\n",
              "    <tr>\n",
              "      <th>11536</th>\n",
              "      <td>900065925</td>\n",
              "      <td>le Quoc Toan Tran</td>\n",
              "      <td>VIE</td>\n",
              "      <td>male</td>\n",
              "      <td>4/5/89</td>\n",
              "      <td>1.60</td>\n",
              "      <td>56.0</td>\n",
              "      <td>weightlifting</td>\n",
              "      <td>0</td>\n",
              "      <td>0</td>\n",
              "      <td>0</td>\n",
              "      <td>(1.209, 1.67]</td>\n",
              "      <td>le</td>\n",
              "      <td>Tran</td>\n",
              "    </tr>\n",
              "    <tr>\n",
              "      <th>11537</th>\n",
              "      <td>711404576</td>\n",
              "      <td>le Roux Hamman</td>\n",
              "      <td>RSA</td>\n",
              "      <td>male</td>\n",
              "      <td>1/6/92</td>\n",
              "      <td>1.85</td>\n",
              "      <td>70.0</td>\n",
              "      <td>athletics</td>\n",
              "      <td>0</td>\n",
              "      <td>0</td>\n",
              "      <td>0</td>\n",
              "      <td>(1.8, 1.86]</td>\n",
              "      <td>le</td>\n",
              "      <td>Hamman</td>\n",
              "    </tr>\n",
              "  </tbody>\n",
              "</table>\n",
              "<p>1570 rows × 14 columns</p>\n",
              "</div>\n",
              "      <button class=\"colab-df-convert\" onclick=\"convertToInteractive('df-3b947814-6c91-4cb0-ac0b-cb8b26ad4b93')\"\n",
              "              title=\"Convert this dataframe to an interactive table.\"\n",
              "              style=\"display:none;\">\n",
              "        \n",
              "  <svg xmlns=\"http://www.w3.org/2000/svg\" height=\"24px\"viewBox=\"0 0 24 24\"\n",
              "       width=\"24px\">\n",
              "    <path d=\"M0 0h24v24H0V0z\" fill=\"none\"/>\n",
              "    <path d=\"M18.56 5.44l.94 2.06.94-2.06 2.06-.94-2.06-.94-.94-2.06-.94 2.06-2.06.94zm-11 1L8.5 8.5l.94-2.06 2.06-.94-2.06-.94L8.5 2.5l-.94 2.06-2.06.94zm10 10l.94 2.06.94-2.06 2.06-.94-2.06-.94-.94-2.06-.94 2.06-2.06.94z\"/><path d=\"M17.41 7.96l-1.37-1.37c-.4-.4-.92-.59-1.43-.59-.52 0-1.04.2-1.43.59L10.3 9.45l-7.72 7.72c-.78.78-.78 2.05 0 2.83L4 21.41c.39.39.9.59 1.41.59.51 0 1.02-.2 1.41-.59l7.78-7.78 2.81-2.81c.8-.78.8-2.07 0-2.86zM5.41 20L4 18.59l7.72-7.72 1.47 1.35L5.41 20z\"/>\n",
              "  </svg>\n",
              "      </button>\n",
              "      \n",
              "  <style>\n",
              "    .colab-df-container {\n",
              "      display:flex;\n",
              "      flex-wrap:wrap;\n",
              "      gap: 12px;\n",
              "    }\n",
              "\n",
              "    .colab-df-convert {\n",
              "      background-color: #E8F0FE;\n",
              "      border: none;\n",
              "      border-radius: 50%;\n",
              "      cursor: pointer;\n",
              "      display: none;\n",
              "      fill: #1967D2;\n",
              "      height: 32px;\n",
              "      padding: 0 0 0 0;\n",
              "      width: 32px;\n",
              "    }\n",
              "\n",
              "    .colab-df-convert:hover {\n",
              "      background-color: #E2EBFA;\n",
              "      box-shadow: 0px 1px 2px rgba(60, 64, 67, 0.3), 0px 1px 3px 1px rgba(60, 64, 67, 0.15);\n",
              "      fill: #174EA6;\n",
              "    }\n",
              "\n",
              "    [theme=dark] .colab-df-convert {\n",
              "      background-color: #3B4455;\n",
              "      fill: #D2E3FC;\n",
              "    }\n",
              "\n",
              "    [theme=dark] .colab-df-convert:hover {\n",
              "      background-color: #434B5C;\n",
              "      box-shadow: 0px 1px 3px 1px rgba(0, 0, 0, 0.15);\n",
              "      filter: drop-shadow(0px 1px 2px rgba(0, 0, 0, 0.3));\n",
              "      fill: #FFFFFF;\n",
              "    }\n",
              "  </style>\n",
              "\n",
              "      <script>\n",
              "        const buttonEl =\n",
              "          document.querySelector('#df-3b947814-6c91-4cb0-ac0b-cb8b26ad4b93 button.colab-df-convert');\n",
              "        buttonEl.style.display =\n",
              "          google.colab.kernel.accessAllowed ? 'block' : 'none';\n",
              "\n",
              "        async function convertToInteractive(key) {\n",
              "          const element = document.querySelector('#df-3b947814-6c91-4cb0-ac0b-cb8b26ad4b93');\n",
              "          const dataTable =\n",
              "            await google.colab.kernel.invokeFunction('convertToInteractive',\n",
              "                                                     [key], {});\n",
              "          if (!dataTable) return;\n",
              "\n",
              "          const docLinkHtml = 'Like what you see? Visit the ' +\n",
              "            '<a target=\"_blank\" href=https://colab.research.google.com/notebooks/data_table.ipynb>data table notebook</a>'\n",
              "            + ' to learn more about interactive tables.';\n",
              "          element.innerHTML = '';\n",
              "          dataTable['output_type'] = 'display_data';\n",
              "          await google.colab.output.renderOutput(dataTable, element);\n",
              "          const docLink = document.createElement('div');\n",
              "          docLink.innerHTML = docLinkHtml;\n",
              "          element.appendChild(docLink);\n",
              "        }\n",
              "      </script>\n",
              "    </div>\n",
              "  </div>\n",
              "  "
            ]
          },
          "metadata": {},
          "execution_count": 19
        }
      ],
      "source": [
        "df_fill[(df_fill['name'].astype(str).str.split().str.len()>2)] # Сколько у нас всего имен больших. 1570 строчек"
      ]
    },
    {
      "cell_type": "markdown",
      "id": "3c6b8ffc",
      "metadata": {
        "id": "3c6b8ffc"
      },
      "source": [
        "#### Подготавливаем данные"
      ]
    },
    {
      "cell_type": "code",
      "execution_count": null,
      "id": "543faab9",
      "metadata": {
        "id": "543faab9",
        "outputId": "36f962e5-4cf2-4feb-e1b2-b60cdadd1c57",
        "colab": {
          "base_uri": "https://localhost:8080/",
          "height": 206
        }
      },
      "outputs": [
        {
          "output_type": "execute_result",
          "data": {
            "text/plain": [
              "  nationality      sport firstName\n",
              "0         ESP  athletics         A\n",
              "1         KOR    fencing         A\n",
              "2         CAN  athletics     Aaron\n",
              "3         MDA  taekwondo     Aaron\n",
              "4         NZL    cycling     Aaron"
            ],
            "text/html": [
              "\n",
              "  <div id=\"df-2b26cb62-6b72-4cc3-a132-e9ac6b4eddc4\">\n",
              "    <div class=\"colab-df-container\">\n",
              "      <div>\n",
              "<style scoped>\n",
              "    .dataframe tbody tr th:only-of-type {\n",
              "        vertical-align: middle;\n",
              "    }\n",
              "\n",
              "    .dataframe tbody tr th {\n",
              "        vertical-align: top;\n",
              "    }\n",
              "\n",
              "    .dataframe thead th {\n",
              "        text-align: right;\n",
              "    }\n",
              "</style>\n",
              "<table border=\"1\" class=\"dataframe\">\n",
              "  <thead>\n",
              "    <tr style=\"text-align: right;\">\n",
              "      <th></th>\n",
              "      <th>nationality</th>\n",
              "      <th>sport</th>\n",
              "      <th>firstName</th>\n",
              "    </tr>\n",
              "  </thead>\n",
              "  <tbody>\n",
              "    <tr>\n",
              "      <th>0</th>\n",
              "      <td>ESP</td>\n",
              "      <td>athletics</td>\n",
              "      <td>A</td>\n",
              "    </tr>\n",
              "    <tr>\n",
              "      <th>1</th>\n",
              "      <td>KOR</td>\n",
              "      <td>fencing</td>\n",
              "      <td>A</td>\n",
              "    </tr>\n",
              "    <tr>\n",
              "      <th>2</th>\n",
              "      <td>CAN</td>\n",
              "      <td>athletics</td>\n",
              "      <td>Aaron</td>\n",
              "    </tr>\n",
              "    <tr>\n",
              "      <th>3</th>\n",
              "      <td>MDA</td>\n",
              "      <td>taekwondo</td>\n",
              "      <td>Aaron</td>\n",
              "    </tr>\n",
              "    <tr>\n",
              "      <th>4</th>\n",
              "      <td>NZL</td>\n",
              "      <td>cycling</td>\n",
              "      <td>Aaron</td>\n",
              "    </tr>\n",
              "  </tbody>\n",
              "</table>\n",
              "</div>\n",
              "      <button class=\"colab-df-convert\" onclick=\"convertToInteractive('df-2b26cb62-6b72-4cc3-a132-e9ac6b4eddc4')\"\n",
              "              title=\"Convert this dataframe to an interactive table.\"\n",
              "              style=\"display:none;\">\n",
              "        \n",
              "  <svg xmlns=\"http://www.w3.org/2000/svg\" height=\"24px\"viewBox=\"0 0 24 24\"\n",
              "       width=\"24px\">\n",
              "    <path d=\"M0 0h24v24H0V0z\" fill=\"none\"/>\n",
              "    <path d=\"M18.56 5.44l.94 2.06.94-2.06 2.06-.94-2.06-.94-.94-2.06-.94 2.06-2.06.94zm-11 1L8.5 8.5l.94-2.06 2.06-.94-2.06-.94L8.5 2.5l-.94 2.06-2.06.94zm10 10l.94 2.06.94-2.06 2.06-.94-2.06-.94-.94-2.06-.94 2.06-2.06.94z\"/><path d=\"M17.41 7.96l-1.37-1.37c-.4-.4-.92-.59-1.43-.59-.52 0-1.04.2-1.43.59L10.3 9.45l-7.72 7.72c-.78.78-.78 2.05 0 2.83L4 21.41c.39.39.9.59 1.41.59.51 0 1.02-.2 1.41-.59l7.78-7.78 2.81-2.81c.8-.78.8-2.07 0-2.86zM5.41 20L4 18.59l7.72-7.72 1.47 1.35L5.41 20z\"/>\n",
              "  </svg>\n",
              "      </button>\n",
              "      \n",
              "  <style>\n",
              "    .colab-df-container {\n",
              "      display:flex;\n",
              "      flex-wrap:wrap;\n",
              "      gap: 12px;\n",
              "    }\n",
              "\n",
              "    .colab-df-convert {\n",
              "      background-color: #E8F0FE;\n",
              "      border: none;\n",
              "      border-radius: 50%;\n",
              "      cursor: pointer;\n",
              "      display: none;\n",
              "      fill: #1967D2;\n",
              "      height: 32px;\n",
              "      padding: 0 0 0 0;\n",
              "      width: 32px;\n",
              "    }\n",
              "\n",
              "    .colab-df-convert:hover {\n",
              "      background-color: #E2EBFA;\n",
              "      box-shadow: 0px 1px 2px rgba(60, 64, 67, 0.3), 0px 1px 3px 1px rgba(60, 64, 67, 0.15);\n",
              "      fill: #174EA6;\n",
              "    }\n",
              "\n",
              "    [theme=dark] .colab-df-convert {\n",
              "      background-color: #3B4455;\n",
              "      fill: #D2E3FC;\n",
              "    }\n",
              "\n",
              "    [theme=dark] .colab-df-convert:hover {\n",
              "      background-color: #434B5C;\n",
              "      box-shadow: 0px 1px 3px 1px rgba(0, 0, 0, 0.15);\n",
              "      filter: drop-shadow(0px 1px 2px rgba(0, 0, 0, 0.3));\n",
              "      fill: #FFFFFF;\n",
              "    }\n",
              "  </style>\n",
              "\n",
              "      <script>\n",
              "        const buttonEl =\n",
              "          document.querySelector('#df-2b26cb62-6b72-4cc3-a132-e9ac6b4eddc4 button.colab-df-convert');\n",
              "        buttonEl.style.display =\n",
              "          google.colab.kernel.accessAllowed ? 'block' : 'none';\n",
              "\n",
              "        async function convertToInteractive(key) {\n",
              "          const element = document.querySelector('#df-2b26cb62-6b72-4cc3-a132-e9ac6b4eddc4');\n",
              "          const dataTable =\n",
              "            await google.colab.kernel.invokeFunction('convertToInteractive',\n",
              "                                                     [key], {});\n",
              "          if (!dataTable) return;\n",
              "\n",
              "          const docLinkHtml = 'Like what you see? Visit the ' +\n",
              "            '<a target=\"_blank\" href=https://colab.research.google.com/notebooks/data_table.ipynb>data table notebook</a>'\n",
              "            + ' to learn more about interactive tables.';\n",
              "          element.innerHTML = '';\n",
              "          dataTable['output_type'] = 'display_data';\n",
              "          await google.colab.output.renderOutput(dataTable, element);\n",
              "          const docLink = document.createElement('div');\n",
              "          docLink.innerHTML = docLinkHtml;\n",
              "          element.appendChild(docLink);\n",
              "        }\n",
              "      </script>\n",
              "    </div>\n",
              "  </div>\n",
              "  "
            ]
          },
          "metadata": {},
          "execution_count": 20
        }
      ],
      "source": [
        "a = df_fill.iloc[:,[2,7,12]] # Категориальные признаки (попробуем оставить и национальность и дату рождения). Дату рождения убрала, потому что ресурсов компа не хватает\n",
        "b = df_fill.iloc[:,[5,6,8,9,10]] #Вещественные\n",
        "a.head(5)"
      ]
    },
    {
      "cell_type": "code",
      "execution_count": null,
      "id": "547e1ace",
      "metadata": {
        "id": "547e1ace",
        "outputId": "12b3ff38-fb6e-4e2c-effd-f83b757f522e",
        "colab": {
          "base_uri": "https://localhost:8080/",
          "height": 300
        }
      },
      "outputs": [
        {
          "output_type": "execute_result",
          "data": {
            "text/plain": [
              "   nationality_AFG  nationality_ALB  nationality_ALG  nationality_AND  \\\n",
              "0                0                0                0                0   \n",
              "1                0                0                0                0   \n",
              "2                0                0                0                0   \n",
              "3                0                0                0                0   \n",
              "4                0                0                0                0   \n",
              "\n",
              "   nationality_ANG  nationality_ANT  nationality_ARG  nationality_ARM  \\\n",
              "0                0                0                0                0   \n",
              "1                0                0                0                0   \n",
              "2                0                0                0                0   \n",
              "3                0                0                0                0   \n",
              "4                0                0                0                0   \n",
              "\n",
              "   nationality_ARU  nationality_ASA  ...  firstName_Zoya  firstName_Zsanett  \\\n",
              "0                0                0  ...               0                  0   \n",
              "1                0                0  ...               0                  0   \n",
              "2                0                0  ...               0                  0   \n",
              "3                0                0  ...               0                  0   \n",
              "4                0                0  ...               0                  0   \n",
              "\n",
              "   firstName_Zsofia  firstName_Zsombor  firstName_Zsuzsanna  firstName_Zurabi  \\\n",
              "0                 0                  0                    0                 0   \n",
              "1                 0                  0                    0                 0   \n",
              "2                 0                  0                    0                 0   \n",
              "3                 0                  0                    0                 0   \n",
              "4                 0                  0                    0                 0   \n",
              "\n",
              "   firstName_Zurian  firstName_Zuzana  firstName_di  firstName_le  \n",
              "0                 0                 0             0             0  \n",
              "1                 0                 0             0             0  \n",
              "2                 0                 0             0             0  \n",
              "3                 0                 0             0             0  \n",
              "4                 0                 0             0             0  \n",
              "\n",
              "[5 rows x 6029 columns]"
            ],
            "text/html": [
              "\n",
              "  <div id=\"df-99fc8392-3290-4d07-a072-587e128b54f0\">\n",
              "    <div class=\"colab-df-container\">\n",
              "      <div>\n",
              "<style scoped>\n",
              "    .dataframe tbody tr th:only-of-type {\n",
              "        vertical-align: middle;\n",
              "    }\n",
              "\n",
              "    .dataframe tbody tr th {\n",
              "        vertical-align: top;\n",
              "    }\n",
              "\n",
              "    .dataframe thead th {\n",
              "        text-align: right;\n",
              "    }\n",
              "</style>\n",
              "<table border=\"1\" class=\"dataframe\">\n",
              "  <thead>\n",
              "    <tr style=\"text-align: right;\">\n",
              "      <th></th>\n",
              "      <th>nationality_AFG</th>\n",
              "      <th>nationality_ALB</th>\n",
              "      <th>nationality_ALG</th>\n",
              "      <th>nationality_AND</th>\n",
              "      <th>nationality_ANG</th>\n",
              "      <th>nationality_ANT</th>\n",
              "      <th>nationality_ARG</th>\n",
              "      <th>nationality_ARM</th>\n",
              "      <th>nationality_ARU</th>\n",
              "      <th>nationality_ASA</th>\n",
              "      <th>...</th>\n",
              "      <th>firstName_Zoya</th>\n",
              "      <th>firstName_Zsanett</th>\n",
              "      <th>firstName_Zsofia</th>\n",
              "      <th>firstName_Zsombor</th>\n",
              "      <th>firstName_Zsuzsanna</th>\n",
              "      <th>firstName_Zurabi</th>\n",
              "      <th>firstName_Zurian</th>\n",
              "      <th>firstName_Zuzana</th>\n",
              "      <th>firstName_di</th>\n",
              "      <th>firstName_le</th>\n",
              "    </tr>\n",
              "  </thead>\n",
              "  <tbody>\n",
              "    <tr>\n",
              "      <th>0</th>\n",
              "      <td>0</td>\n",
              "      <td>0</td>\n",
              "      <td>0</td>\n",
              "      <td>0</td>\n",
              "      <td>0</td>\n",
              "      <td>0</td>\n",
              "      <td>0</td>\n",
              "      <td>0</td>\n",
              "      <td>0</td>\n",
              "      <td>0</td>\n",
              "      <td>...</td>\n",
              "      <td>0</td>\n",
              "      <td>0</td>\n",
              "      <td>0</td>\n",
              "      <td>0</td>\n",
              "      <td>0</td>\n",
              "      <td>0</td>\n",
              "      <td>0</td>\n",
              "      <td>0</td>\n",
              "      <td>0</td>\n",
              "      <td>0</td>\n",
              "    </tr>\n",
              "    <tr>\n",
              "      <th>1</th>\n",
              "      <td>0</td>\n",
              "      <td>0</td>\n",
              "      <td>0</td>\n",
              "      <td>0</td>\n",
              "      <td>0</td>\n",
              "      <td>0</td>\n",
              "      <td>0</td>\n",
              "      <td>0</td>\n",
              "      <td>0</td>\n",
              "      <td>0</td>\n",
              "      <td>...</td>\n",
              "      <td>0</td>\n",
              "      <td>0</td>\n",
              "      <td>0</td>\n",
              "      <td>0</td>\n",
              "      <td>0</td>\n",
              "      <td>0</td>\n",
              "      <td>0</td>\n",
              "      <td>0</td>\n",
              "      <td>0</td>\n",
              "      <td>0</td>\n",
              "    </tr>\n",
              "    <tr>\n",
              "      <th>2</th>\n",
              "      <td>0</td>\n",
              "      <td>0</td>\n",
              "      <td>0</td>\n",
              "      <td>0</td>\n",
              "      <td>0</td>\n",
              "      <td>0</td>\n",
              "      <td>0</td>\n",
              "      <td>0</td>\n",
              "      <td>0</td>\n",
              "      <td>0</td>\n",
              "      <td>...</td>\n",
              "      <td>0</td>\n",
              "      <td>0</td>\n",
              "      <td>0</td>\n",
              "      <td>0</td>\n",
              "      <td>0</td>\n",
              "      <td>0</td>\n",
              "      <td>0</td>\n",
              "      <td>0</td>\n",
              "      <td>0</td>\n",
              "      <td>0</td>\n",
              "    </tr>\n",
              "    <tr>\n",
              "      <th>3</th>\n",
              "      <td>0</td>\n",
              "      <td>0</td>\n",
              "      <td>0</td>\n",
              "      <td>0</td>\n",
              "      <td>0</td>\n",
              "      <td>0</td>\n",
              "      <td>0</td>\n",
              "      <td>0</td>\n",
              "      <td>0</td>\n",
              "      <td>0</td>\n",
              "      <td>...</td>\n",
              "      <td>0</td>\n",
              "      <td>0</td>\n",
              "      <td>0</td>\n",
              "      <td>0</td>\n",
              "      <td>0</td>\n",
              "      <td>0</td>\n",
              "      <td>0</td>\n",
              "      <td>0</td>\n",
              "      <td>0</td>\n",
              "      <td>0</td>\n",
              "    </tr>\n",
              "    <tr>\n",
              "      <th>4</th>\n",
              "      <td>0</td>\n",
              "      <td>0</td>\n",
              "      <td>0</td>\n",
              "      <td>0</td>\n",
              "      <td>0</td>\n",
              "      <td>0</td>\n",
              "      <td>0</td>\n",
              "      <td>0</td>\n",
              "      <td>0</td>\n",
              "      <td>0</td>\n",
              "      <td>...</td>\n",
              "      <td>0</td>\n",
              "      <td>0</td>\n",
              "      <td>0</td>\n",
              "      <td>0</td>\n",
              "      <td>0</td>\n",
              "      <td>0</td>\n",
              "      <td>0</td>\n",
              "      <td>0</td>\n",
              "      <td>0</td>\n",
              "      <td>0</td>\n",
              "    </tr>\n",
              "  </tbody>\n",
              "</table>\n",
              "<p>5 rows × 6029 columns</p>\n",
              "</div>\n",
              "      <button class=\"colab-df-convert\" onclick=\"convertToInteractive('df-99fc8392-3290-4d07-a072-587e128b54f0')\"\n",
              "              title=\"Convert this dataframe to an interactive table.\"\n",
              "              style=\"display:none;\">\n",
              "        \n",
              "  <svg xmlns=\"http://www.w3.org/2000/svg\" height=\"24px\"viewBox=\"0 0 24 24\"\n",
              "       width=\"24px\">\n",
              "    <path d=\"M0 0h24v24H0V0z\" fill=\"none\"/>\n",
              "    <path d=\"M18.56 5.44l.94 2.06.94-2.06 2.06-.94-2.06-.94-.94-2.06-.94 2.06-2.06.94zm-11 1L8.5 8.5l.94-2.06 2.06-.94-2.06-.94L8.5 2.5l-.94 2.06-2.06.94zm10 10l.94 2.06.94-2.06 2.06-.94-2.06-.94-.94-2.06-.94 2.06-2.06.94z\"/><path d=\"M17.41 7.96l-1.37-1.37c-.4-.4-.92-.59-1.43-.59-.52 0-1.04.2-1.43.59L10.3 9.45l-7.72 7.72c-.78.78-.78 2.05 0 2.83L4 21.41c.39.39.9.59 1.41.59.51 0 1.02-.2 1.41-.59l7.78-7.78 2.81-2.81c.8-.78.8-2.07 0-2.86zM5.41 20L4 18.59l7.72-7.72 1.47 1.35L5.41 20z\"/>\n",
              "  </svg>\n",
              "      </button>\n",
              "      \n",
              "  <style>\n",
              "    .colab-df-container {\n",
              "      display:flex;\n",
              "      flex-wrap:wrap;\n",
              "      gap: 12px;\n",
              "    }\n",
              "\n",
              "    .colab-df-convert {\n",
              "      background-color: #E8F0FE;\n",
              "      border: none;\n",
              "      border-radius: 50%;\n",
              "      cursor: pointer;\n",
              "      display: none;\n",
              "      fill: #1967D2;\n",
              "      height: 32px;\n",
              "      padding: 0 0 0 0;\n",
              "      width: 32px;\n",
              "    }\n",
              "\n",
              "    .colab-df-convert:hover {\n",
              "      background-color: #E2EBFA;\n",
              "      box-shadow: 0px 1px 2px rgba(60, 64, 67, 0.3), 0px 1px 3px 1px rgba(60, 64, 67, 0.15);\n",
              "      fill: #174EA6;\n",
              "    }\n",
              "\n",
              "    [theme=dark] .colab-df-convert {\n",
              "      background-color: #3B4455;\n",
              "      fill: #D2E3FC;\n",
              "    }\n",
              "\n",
              "    [theme=dark] .colab-df-convert:hover {\n",
              "      background-color: #434B5C;\n",
              "      box-shadow: 0px 1px 3px 1px rgba(0, 0, 0, 0.15);\n",
              "      filter: drop-shadow(0px 1px 2px rgba(0, 0, 0, 0.3));\n",
              "      fill: #FFFFFF;\n",
              "    }\n",
              "  </style>\n",
              "\n",
              "      <script>\n",
              "        const buttonEl =\n",
              "          document.querySelector('#df-99fc8392-3290-4d07-a072-587e128b54f0 button.colab-df-convert');\n",
              "        buttonEl.style.display =\n",
              "          google.colab.kernel.accessAllowed ? 'block' : 'none';\n",
              "\n",
              "        async function convertToInteractive(key) {\n",
              "          const element = document.querySelector('#df-99fc8392-3290-4d07-a072-587e128b54f0');\n",
              "          const dataTable =\n",
              "            await google.colab.kernel.invokeFunction('convertToInteractive',\n",
              "                                                     [key], {});\n",
              "          if (!dataTable) return;\n",
              "\n",
              "          const docLinkHtml = 'Like what you see? Visit the ' +\n",
              "            '<a target=\"_blank\" href=https://colab.research.google.com/notebooks/data_table.ipynb>data table notebook</a>'\n",
              "            + ' to learn more about interactive tables.';\n",
              "          element.innerHTML = '';\n",
              "          dataTable['output_type'] = 'display_data';\n",
              "          await google.colab.output.renderOutput(dataTable, element);\n",
              "          const docLink = document.createElement('div');\n",
              "          docLink.innerHTML = docLinkHtml;\n",
              "          element.appendChild(docLink);\n",
              "        }\n",
              "      </script>\n",
              "    </div>\n",
              "  </div>\n",
              "  "
            ]
          },
          "metadata": {},
          "execution_count": 21
        }
      ],
      "source": [
        "a_ohe = pd.get_dummies(a)\n",
        "a_ohe.head()"
      ]
    },
    {
      "cell_type": "code",
      "execution_count": null,
      "id": "3fd74ae4",
      "metadata": {
        "id": "3fd74ae4",
        "outputId": "e43ebcd9-e082-4cf2-b43d-c8080336d5e8",
        "colab": {
          "base_uri": "https://localhost:8080/"
        }
      },
      "outputs": [
        {
          "output_type": "execute_result",
          "data": {
            "text/plain": [
              "(11538, 6029)"
            ]
          },
          "metadata": {},
          "execution_count": 22
        }
      ],
      "source": [
        "a_ohe.shape"
      ]
    },
    {
      "cell_type": "code",
      "execution_count": null,
      "id": "5385da94",
      "metadata": {
        "id": "5385da94",
        "outputId": "0406ab37-7cc3-4aad-e893-93192914b76e",
        "colab": {
          "base_uri": "https://localhost:8080/"
        }
      },
      "outputs": [
        {
          "output_type": "execute_result",
          "data": {
            "text/plain": [
              "(11538, 5)"
            ]
          },
          "metadata": {},
          "execution_count": 23
        }
      ],
      "source": [
        "b.shape"
      ]
    },
    {
      "cell_type": "code",
      "execution_count": null,
      "id": "dcb4cd57",
      "metadata": {
        "id": "dcb4cd57"
      },
      "outputs": [],
      "source": [
        "#Склеиваем обратно\n",
        "c = pd.concat([b, a_ohe], axis = 1)"
      ]
    },
    {
      "cell_type": "code",
      "execution_count": null,
      "id": "2e0f063d",
      "metadata": {
        "id": "2e0f063d",
        "outputId": "f8727442-5c6c-489b-d5ad-db8ac9a6f3de",
        "colab": {
          "base_uri": "https://localhost:8080/",
          "height": 456
        }
      },
      "outputs": [
        {
          "output_type": "execute_result",
          "data": {
            "text/plain": [
              "   height  weight  gold  silver  bronze  nationality_AFG  nationality_ALB  \\\n",
              "0    1.72    64.0     0       0       0                0                0   \n",
              "1    1.68    56.0     0       0       0                0                0   \n",
              "2    1.98    79.0     0       0       1                0                0   \n",
              "3    1.83    80.0     0       0       0                0                0   \n",
              "4    1.81    71.0     0       0       0                0                0   \n",
              "5    1.80    67.0     0       0       0                0                0   \n",
              "6    2.05    98.0     0       0       1                0                0   \n",
              "7    1.93   100.0     0       0       0                0                0   \n",
              "8    1.80    62.0     0       0       0                0                0   \n",
              "9    1.65    54.0     0       0       0                0                0   \n",
              "\n",
              "   nationality_ALG  nationality_AND  nationality_ANG  ...  firstName_Zoya  \\\n",
              "0                0                0                0  ...               0   \n",
              "1                0                0                0  ...               0   \n",
              "2                0                0                0  ...               0   \n",
              "3                0                0                0  ...               0   \n",
              "4                0                0                0  ...               0   \n",
              "5                0                0                0  ...               0   \n",
              "6                0                0                0  ...               0   \n",
              "7                0                0                0  ...               0   \n",
              "8                0                0                0  ...               0   \n",
              "9                0                0                0  ...               0   \n",
              "\n",
              "   firstName_Zsanett  firstName_Zsofia  firstName_Zsombor  \\\n",
              "0                  0                 0                  0   \n",
              "1                  0                 0                  0   \n",
              "2                  0                 0                  0   \n",
              "3                  0                 0                  0   \n",
              "4                  0                 0                  0   \n",
              "5                  0                 0                  0   \n",
              "6                  0                 0                  0   \n",
              "7                  0                 0                  0   \n",
              "8                  0                 0                  0   \n",
              "9                  0                 0                  0   \n",
              "\n",
              "   firstName_Zsuzsanna  firstName_Zurabi  firstName_Zurian  firstName_Zuzana  \\\n",
              "0                    0                 0                 0                 0   \n",
              "1                    0                 0                 0                 0   \n",
              "2                    0                 0                 0                 0   \n",
              "3                    0                 0                 0                 0   \n",
              "4                    0                 0                 0                 0   \n",
              "5                    0                 0                 0                 0   \n",
              "6                    0                 0                 0                 0   \n",
              "7                    0                 0                 0                 0   \n",
              "8                    0                 0                 0                 0   \n",
              "9                    0                 0                 0                 0   \n",
              "\n",
              "   firstName_di  firstName_le  \n",
              "0             0             0  \n",
              "1             0             0  \n",
              "2             0             0  \n",
              "3             0             0  \n",
              "4             0             0  \n",
              "5             0             0  \n",
              "6             0             0  \n",
              "7             0             0  \n",
              "8             0             0  \n",
              "9             0             0  \n",
              "\n",
              "[10 rows x 6034 columns]"
            ],
            "text/html": [
              "\n",
              "  <div id=\"df-a44784b8-2ddd-476e-9006-f4052a37b6df\">\n",
              "    <div class=\"colab-df-container\">\n",
              "      <div>\n",
              "<style scoped>\n",
              "    .dataframe tbody tr th:only-of-type {\n",
              "        vertical-align: middle;\n",
              "    }\n",
              "\n",
              "    .dataframe tbody tr th {\n",
              "        vertical-align: top;\n",
              "    }\n",
              "\n",
              "    .dataframe thead th {\n",
              "        text-align: right;\n",
              "    }\n",
              "</style>\n",
              "<table border=\"1\" class=\"dataframe\">\n",
              "  <thead>\n",
              "    <tr style=\"text-align: right;\">\n",
              "      <th></th>\n",
              "      <th>height</th>\n",
              "      <th>weight</th>\n",
              "      <th>gold</th>\n",
              "      <th>silver</th>\n",
              "      <th>bronze</th>\n",
              "      <th>nationality_AFG</th>\n",
              "      <th>nationality_ALB</th>\n",
              "      <th>nationality_ALG</th>\n",
              "      <th>nationality_AND</th>\n",
              "      <th>nationality_ANG</th>\n",
              "      <th>...</th>\n",
              "      <th>firstName_Zoya</th>\n",
              "      <th>firstName_Zsanett</th>\n",
              "      <th>firstName_Zsofia</th>\n",
              "      <th>firstName_Zsombor</th>\n",
              "      <th>firstName_Zsuzsanna</th>\n",
              "      <th>firstName_Zurabi</th>\n",
              "      <th>firstName_Zurian</th>\n",
              "      <th>firstName_Zuzana</th>\n",
              "      <th>firstName_di</th>\n",
              "      <th>firstName_le</th>\n",
              "    </tr>\n",
              "  </thead>\n",
              "  <tbody>\n",
              "    <tr>\n",
              "      <th>0</th>\n",
              "      <td>1.72</td>\n",
              "      <td>64.0</td>\n",
              "      <td>0</td>\n",
              "      <td>0</td>\n",
              "      <td>0</td>\n",
              "      <td>0</td>\n",
              "      <td>0</td>\n",
              "      <td>0</td>\n",
              "      <td>0</td>\n",
              "      <td>0</td>\n",
              "      <td>...</td>\n",
              "      <td>0</td>\n",
              "      <td>0</td>\n",
              "      <td>0</td>\n",
              "      <td>0</td>\n",
              "      <td>0</td>\n",
              "      <td>0</td>\n",
              "      <td>0</td>\n",
              "      <td>0</td>\n",
              "      <td>0</td>\n",
              "      <td>0</td>\n",
              "    </tr>\n",
              "    <tr>\n",
              "      <th>1</th>\n",
              "      <td>1.68</td>\n",
              "      <td>56.0</td>\n",
              "      <td>0</td>\n",
              "      <td>0</td>\n",
              "      <td>0</td>\n",
              "      <td>0</td>\n",
              "      <td>0</td>\n",
              "      <td>0</td>\n",
              "      <td>0</td>\n",
              "      <td>0</td>\n",
              "      <td>...</td>\n",
              "      <td>0</td>\n",
              "      <td>0</td>\n",
              "      <td>0</td>\n",
              "      <td>0</td>\n",
              "      <td>0</td>\n",
              "      <td>0</td>\n",
              "      <td>0</td>\n",
              "      <td>0</td>\n",
              "      <td>0</td>\n",
              "      <td>0</td>\n",
              "    </tr>\n",
              "    <tr>\n",
              "      <th>2</th>\n",
              "      <td>1.98</td>\n",
              "      <td>79.0</td>\n",
              "      <td>0</td>\n",
              "      <td>0</td>\n",
              "      <td>1</td>\n",
              "      <td>0</td>\n",
              "      <td>0</td>\n",
              "      <td>0</td>\n",
              "      <td>0</td>\n",
              "      <td>0</td>\n",
              "      <td>...</td>\n",
              "      <td>0</td>\n",
              "      <td>0</td>\n",
              "      <td>0</td>\n",
              "      <td>0</td>\n",
              "      <td>0</td>\n",
              "      <td>0</td>\n",
              "      <td>0</td>\n",
              "      <td>0</td>\n",
              "      <td>0</td>\n",
              "      <td>0</td>\n",
              "    </tr>\n",
              "    <tr>\n",
              "      <th>3</th>\n",
              "      <td>1.83</td>\n",
              "      <td>80.0</td>\n",
              "      <td>0</td>\n",
              "      <td>0</td>\n",
              "      <td>0</td>\n",
              "      <td>0</td>\n",
              "      <td>0</td>\n",
              "      <td>0</td>\n",
              "      <td>0</td>\n",
              "      <td>0</td>\n",
              "      <td>...</td>\n",
              "      <td>0</td>\n",
              "      <td>0</td>\n",
              "      <td>0</td>\n",
              "      <td>0</td>\n",
              "      <td>0</td>\n",
              "      <td>0</td>\n",
              "      <td>0</td>\n",
              "      <td>0</td>\n",
              "      <td>0</td>\n",
              "      <td>0</td>\n",
              "    </tr>\n",
              "    <tr>\n",
              "      <th>4</th>\n",
              "      <td>1.81</td>\n",
              "      <td>71.0</td>\n",
              "      <td>0</td>\n",
              "      <td>0</td>\n",
              "      <td>0</td>\n",
              "      <td>0</td>\n",
              "      <td>0</td>\n",
              "      <td>0</td>\n",
              "      <td>0</td>\n",
              "      <td>0</td>\n",
              "      <td>...</td>\n",
              "      <td>0</td>\n",
              "      <td>0</td>\n",
              "      <td>0</td>\n",
              "      <td>0</td>\n",
              "      <td>0</td>\n",
              "      <td>0</td>\n",
              "      <td>0</td>\n",
              "      <td>0</td>\n",
              "      <td>0</td>\n",
              "      <td>0</td>\n",
              "    </tr>\n",
              "    <tr>\n",
              "      <th>5</th>\n",
              "      <td>1.80</td>\n",
              "      <td>67.0</td>\n",
              "      <td>0</td>\n",
              "      <td>0</td>\n",
              "      <td>0</td>\n",
              "      <td>0</td>\n",
              "      <td>0</td>\n",
              "      <td>0</td>\n",
              "      <td>0</td>\n",
              "      <td>0</td>\n",
              "      <td>...</td>\n",
              "      <td>0</td>\n",
              "      <td>0</td>\n",
              "      <td>0</td>\n",
              "      <td>0</td>\n",
              "      <td>0</td>\n",
              "      <td>0</td>\n",
              "      <td>0</td>\n",
              "      <td>0</td>\n",
              "      <td>0</td>\n",
              "      <td>0</td>\n",
              "    </tr>\n",
              "    <tr>\n",
              "      <th>6</th>\n",
              "      <td>2.05</td>\n",
              "      <td>98.0</td>\n",
              "      <td>0</td>\n",
              "      <td>0</td>\n",
              "      <td>1</td>\n",
              "      <td>0</td>\n",
              "      <td>0</td>\n",
              "      <td>0</td>\n",
              "      <td>0</td>\n",
              "      <td>0</td>\n",
              "      <td>...</td>\n",
              "      <td>0</td>\n",
              "      <td>0</td>\n",
              "      <td>0</td>\n",
              "      <td>0</td>\n",
              "      <td>0</td>\n",
              "      <td>0</td>\n",
              "      <td>0</td>\n",
              "      <td>0</td>\n",
              "      <td>0</td>\n",
              "      <td>0</td>\n",
              "    </tr>\n",
              "    <tr>\n",
              "      <th>7</th>\n",
              "      <td>1.93</td>\n",
              "      <td>100.0</td>\n",
              "      <td>0</td>\n",
              "      <td>0</td>\n",
              "      <td>0</td>\n",
              "      <td>0</td>\n",
              "      <td>0</td>\n",
              "      <td>0</td>\n",
              "      <td>0</td>\n",
              "      <td>0</td>\n",
              "      <td>...</td>\n",
              "      <td>0</td>\n",
              "      <td>0</td>\n",
              "      <td>0</td>\n",
              "      <td>0</td>\n",
              "      <td>0</td>\n",
              "      <td>0</td>\n",
              "      <td>0</td>\n",
              "      <td>0</td>\n",
              "      <td>0</td>\n",
              "      <td>0</td>\n",
              "    </tr>\n",
              "    <tr>\n",
              "      <th>8</th>\n",
              "      <td>1.80</td>\n",
              "      <td>62.0</td>\n",
              "      <td>0</td>\n",
              "      <td>0</td>\n",
              "      <td>0</td>\n",
              "      <td>0</td>\n",
              "      <td>0</td>\n",
              "      <td>0</td>\n",
              "      <td>0</td>\n",
              "      <td>0</td>\n",
              "      <td>...</td>\n",
              "      <td>0</td>\n",
              "      <td>0</td>\n",
              "      <td>0</td>\n",
              "      <td>0</td>\n",
              "      <td>0</td>\n",
              "      <td>0</td>\n",
              "      <td>0</td>\n",
              "      <td>0</td>\n",
              "      <td>0</td>\n",
              "      <td>0</td>\n",
              "    </tr>\n",
              "    <tr>\n",
              "      <th>9</th>\n",
              "      <td>1.65</td>\n",
              "      <td>54.0</td>\n",
              "      <td>0</td>\n",
              "      <td>0</td>\n",
              "      <td>0</td>\n",
              "      <td>0</td>\n",
              "      <td>0</td>\n",
              "      <td>0</td>\n",
              "      <td>0</td>\n",
              "      <td>0</td>\n",
              "      <td>...</td>\n",
              "      <td>0</td>\n",
              "      <td>0</td>\n",
              "      <td>0</td>\n",
              "      <td>0</td>\n",
              "      <td>0</td>\n",
              "      <td>0</td>\n",
              "      <td>0</td>\n",
              "      <td>0</td>\n",
              "      <td>0</td>\n",
              "      <td>0</td>\n",
              "    </tr>\n",
              "  </tbody>\n",
              "</table>\n",
              "<p>10 rows × 6034 columns</p>\n",
              "</div>\n",
              "      <button class=\"colab-df-convert\" onclick=\"convertToInteractive('df-a44784b8-2ddd-476e-9006-f4052a37b6df')\"\n",
              "              title=\"Convert this dataframe to an interactive table.\"\n",
              "              style=\"display:none;\">\n",
              "        \n",
              "  <svg xmlns=\"http://www.w3.org/2000/svg\" height=\"24px\"viewBox=\"0 0 24 24\"\n",
              "       width=\"24px\">\n",
              "    <path d=\"M0 0h24v24H0V0z\" fill=\"none\"/>\n",
              "    <path d=\"M18.56 5.44l.94 2.06.94-2.06 2.06-.94-2.06-.94-.94-2.06-.94 2.06-2.06.94zm-11 1L8.5 8.5l.94-2.06 2.06-.94-2.06-.94L8.5 2.5l-.94 2.06-2.06.94zm10 10l.94 2.06.94-2.06 2.06-.94-2.06-.94-.94-2.06-.94 2.06-2.06.94z\"/><path d=\"M17.41 7.96l-1.37-1.37c-.4-.4-.92-.59-1.43-.59-.52 0-1.04.2-1.43.59L10.3 9.45l-7.72 7.72c-.78.78-.78 2.05 0 2.83L4 21.41c.39.39.9.59 1.41.59.51 0 1.02-.2 1.41-.59l7.78-7.78 2.81-2.81c.8-.78.8-2.07 0-2.86zM5.41 20L4 18.59l7.72-7.72 1.47 1.35L5.41 20z\"/>\n",
              "  </svg>\n",
              "      </button>\n",
              "      \n",
              "  <style>\n",
              "    .colab-df-container {\n",
              "      display:flex;\n",
              "      flex-wrap:wrap;\n",
              "      gap: 12px;\n",
              "    }\n",
              "\n",
              "    .colab-df-convert {\n",
              "      background-color: #E8F0FE;\n",
              "      border: none;\n",
              "      border-radius: 50%;\n",
              "      cursor: pointer;\n",
              "      display: none;\n",
              "      fill: #1967D2;\n",
              "      height: 32px;\n",
              "      padding: 0 0 0 0;\n",
              "      width: 32px;\n",
              "    }\n",
              "\n",
              "    .colab-df-convert:hover {\n",
              "      background-color: #E2EBFA;\n",
              "      box-shadow: 0px 1px 2px rgba(60, 64, 67, 0.3), 0px 1px 3px 1px rgba(60, 64, 67, 0.15);\n",
              "      fill: #174EA6;\n",
              "    }\n",
              "\n",
              "    [theme=dark] .colab-df-convert {\n",
              "      background-color: #3B4455;\n",
              "      fill: #D2E3FC;\n",
              "    }\n",
              "\n",
              "    [theme=dark] .colab-df-convert:hover {\n",
              "      background-color: #434B5C;\n",
              "      box-shadow: 0px 1px 3px 1px rgba(0, 0, 0, 0.15);\n",
              "      filter: drop-shadow(0px 1px 2px rgba(0, 0, 0, 0.3));\n",
              "      fill: #FFFFFF;\n",
              "    }\n",
              "  </style>\n",
              "\n",
              "      <script>\n",
              "        const buttonEl =\n",
              "          document.querySelector('#df-a44784b8-2ddd-476e-9006-f4052a37b6df button.colab-df-convert');\n",
              "        buttonEl.style.display =\n",
              "          google.colab.kernel.accessAllowed ? 'block' : 'none';\n",
              "\n",
              "        async function convertToInteractive(key) {\n",
              "          const element = document.querySelector('#df-a44784b8-2ddd-476e-9006-f4052a37b6df');\n",
              "          const dataTable =\n",
              "            await google.colab.kernel.invokeFunction('convertToInteractive',\n",
              "                                                     [key], {});\n",
              "          if (!dataTable) return;\n",
              "\n",
              "          const docLinkHtml = 'Like what you see? Visit the ' +\n",
              "            '<a target=\"_blank\" href=https://colab.research.google.com/notebooks/data_table.ipynb>data table notebook</a>'\n",
              "            + ' to learn more about interactive tables.';\n",
              "          element.innerHTML = '';\n",
              "          dataTable['output_type'] = 'display_data';\n",
              "          await google.colab.output.renderOutput(dataTable, element);\n",
              "          const docLink = document.createElement('div');\n",
              "          docLink.innerHTML = docLinkHtml;\n",
              "          element.appendChild(docLink);\n",
              "        }\n",
              "      </script>\n",
              "    </div>\n",
              "  </div>\n",
              "  "
            ]
          },
          "metadata": {},
          "execution_count": 25
        }
      ],
      "source": [
        "c.head(10)"
      ]
    },
    {
      "cell_type": "code",
      "execution_count": null,
      "id": "325879b9",
      "metadata": {
        "id": "325879b9",
        "outputId": "ac5940bd-d2cb-427e-8b6a-fb0e1744c3cf",
        "colab": {
          "base_uri": "https://localhost:8080/"
        }
      },
      "outputs": [
        {
          "output_type": "execute_result",
          "data": {
            "text/plain": [
              "array(['female', 'male'], dtype=object)"
            ]
          },
          "metadata": {},
          "execution_count": 26
        }
      ],
      "source": [
        "#Поменяем пол c помощью LabelEncoder\n",
        "from sklearn.preprocessing import LabelEncoder\n",
        "le = LabelEncoder()\n",
        "le.fit( df_fill['sex'] )\n",
        "le.classes_\n",
        "# df_fill['sex'] = df_fill['sex'].map({'male':0, 'female':1}).values"
      ]
    },
    {
      "cell_type": "code",
      "execution_count": null,
      "id": "3d482a5f",
      "metadata": {
        "id": "3d482a5f",
        "outputId": "f559fbf4-c53b-4b34-8793-64165463d299",
        "colab": {
          "base_uri": "https://localhost:8080/"
        }
      },
      "outputs": [
        {
          "output_type": "execute_result",
          "data": {
            "text/plain": [
              "0    1\n",
              "1    0\n",
              "2    1\n",
              "3    1\n",
              "4    1\n",
              "dtype: int64"
            ]
          },
          "metadata": {},
          "execution_count": 27
        }
      ],
      "source": [
        "y = pd.Series( data = le.transform( df_fill['sex'] ) )\n",
        "y.head()"
      ]
    },
    {
      "cell_type": "code",
      "execution_count": null,
      "id": "9444e5a1",
      "metadata": {
        "id": "9444e5a1"
      },
      "outputs": [],
      "source": [
        "from sklearn.model_selection import train_test_split\n",
        "\n",
        "X_train, X_test, y_train, y_test = train_test_split(df, y, test_size=0.2, random_state=42) #Делим выборку 80/20 и закрепляем рандом"
      ]
    },
    {
      "cell_type": "code",
      "execution_count": null,
      "id": "b402d7b4",
      "metadata": {
        "id": "b402d7b4"
      },
      "outputs": [],
      "source": [
        "from sklearn.linear_model import LogisticRegression\n",
        "from sklearn.pipeline import make_pipeline # используем пайплайны для удобства\n",
        "from sklearn.preprocessing import StandardScaler # масштабируем данные для лучшего обучения\n",
        "\n",
        "\n",
        "model = make_pipeline(StandardScaler(), LogisticRegression(max_iter=1000))"
      ]
    },
    {
      "cell_type": "code",
      "execution_count": null,
      "id": "55a7a22f",
      "metadata": {
        "id": "55a7a22f",
        "outputId": "93168400-f405-494b-dbe3-d138efdec0c9",
        "colab": {
          "base_uri": "https://localhost:8080/"
        }
      },
      "outputs": [
        {
          "output_type": "execute_result",
          "data": {
            "text/plain": [
              "Pipeline(steps=[('standardscaler', StandardScaler()),\n",
              "                ('logisticregression', LogisticRegression(max_iter=1000))])"
            ]
          },
          "metadata": {},
          "execution_count": 30
        }
      ],
      "source": [
        "model.fit(X_train, y_train) #Обучаем модель"
      ]
    },
    {
      "cell_type": "code",
      "execution_count": null,
      "id": "82cae6e1",
      "metadata": {
        "id": "82cae6e1",
        "outputId": "16525404-e292-4e57-9465-b13496d035fc",
        "colab": {
          "base_uri": "https://localhost:8080/"
        }
      },
      "outputs": [
        {
          "output_type": "execute_result",
          "data": {
            "text/plain": [
              "array([[3.28154681e-08, 9.99999967e-01],\n",
              "       [9.99715516e-01, 2.84484403e-04],\n",
              "       [9.73606182e-01, 2.63938182e-02],\n",
              "       ...,\n",
              "       [8.73607355e-03, 9.91263926e-01],\n",
              "       [7.89210293e-01, 2.10789707e-01],\n",
              "       [7.25117659e-06, 9.99992749e-01]])"
            ]
          },
          "metadata": {},
          "execution_count": 31
        }
      ],
      "source": [
        "predictions = model.predict_proba(X_test)\n",
        "predictions"
      ]
    },
    {
      "cell_type": "code",
      "execution_count": null,
      "id": "a45b2674",
      "metadata": {
        "id": "a45b2674",
        "outputId": "34b79de0-4f48-4c46-afbe-77b180982de1",
        "colab": {
          "base_uri": "https://localhost:8080/"
        }
      },
      "outputs": [
        {
          "output_type": "execute_result",
          "data": {
            "text/plain": [
              "0.9993499458288191"
            ]
          },
          "metadata": {},
          "execution_count": 32
        }
      ],
      "source": [
        "model.score(X_train, y_train)"
      ]
    },
    {
      "cell_type": "code",
      "execution_count": null,
      "id": "4f0c39d7",
      "metadata": {
        "id": "4f0c39d7",
        "outputId": "921d86fa-e48d-4223-8518-0fb15eab520c",
        "colab": {
          "base_uri": "https://localhost:8080/"
        }
      },
      "outputs": [
        {
          "output_type": "execute_result",
          "data": {
            "text/plain": [
              "0.8765164644714039"
            ]
          },
          "metadata": {},
          "execution_count": 33
        }
      ],
      "source": [
        "model.score(X_test, y_test)"
      ]
    },
    {
      "cell_type": "markdown",
      "id": "3270a04c",
      "metadata": {
        "id": "3270a04c"
      },
      "source": [
        "#### Считаем accuracy последней модели вручную"
      ]
    },
    {
      "cell_type": "code",
      "execution_count": null,
      "id": "10385657",
      "metadata": {
        "id": "10385657"
      },
      "outputs": [],
      "source": [
        "#Обернем в функцию и добавим порог для будущих целей\n",
        "def pos_neg( predictions, y_test, threshold=0.5):\n",
        "    tp = 0 # True positive\n",
        "    fp = 0 # False positive\n",
        "    fn = 0 # False negative\n",
        "    tn = 0 # True negative\n",
        "\n",
        "    for predicted_prob, actual in zip( predictions[:, 1], y_test ):\n",
        "        if predicted_prob >= threshold:\n",
        "            predicted = 1\n",
        "        else:\n",
        "            predicted = 0\n",
        "\n",
        "        if predicted == 1:\n",
        "            if actual == 1:\n",
        "                tp += 1\n",
        "            else:\n",
        "                fp += 1\n",
        "\n",
        "        else:\n",
        "            if actual == 1:\n",
        "                fn += 1\n",
        "            else:\n",
        "                tn += 1\n",
        "\n",
        "    fpr_single = fp / (fp + tn)\n",
        "    tpr_single = tp / (tp + fn)\n",
        "\n",
        "    return tp, fp, fn, tn, fpr_single, tpr_single\n",
        "#fp = np.sum((y_pred == 1) & (y_true == 0))\n",
        "#tp = np.sum((y_pred == 1) & (y_true == 1))\n",
        "#fn = np.sum((y_pred == 0) & (y_true == 1))\n",
        "#tn = np.sum((y_pred == 0) & (y_true == 0))"
      ]
    },
    {
      "cell_type": "code",
      "execution_count": null,
      "id": "c2168f55",
      "metadata": {
        "id": "c2168f55"
      },
      "outputs": [],
      "source": [
        "predictions = model.predict_proba( X_test )\n",
        "\n",
        "tp, fp, fn, tn, fpr_single, tpr_single = pos_neg( predictions, y_test, threshold=0.5)\n"
      ]
    },
    {
      "cell_type": "code",
      "execution_count": null,
      "id": "0f0fcdbf",
      "metadata": {
        "id": "0f0fcdbf",
        "outputId": "3f7f6d31-3d81-43bf-c82a-a1af72c4798e",
        "colab": {
          "base_uri": "https://localhost:8080/"
        }
      },
      "outputs": [
        {
          "output_type": "execute_result",
          "data": {
            "text/plain": [
              "(1136, 150, 135, 887, 0.1446480231436837, 0.8937844217151849)"
            ]
          },
          "metadata": {},
          "execution_count": 36
        }
      ],
      "source": [
        "tp, fp, fn, tn, fpr_single, tpr_single"
      ]
    },
    {
      "cell_type": "code",
      "execution_count": null,
      "id": "c6d48ce6",
      "metadata": {
        "id": "c6d48ce6"
      },
      "outputs": [],
      "source": [
        "precision_single = tp / (tp + fp)\n",
        "recall_single = tp / (tp + fn)"
      ]
    },
    {
      "cell_type": "code",
      "execution_count": null,
      "id": "79196edf",
      "metadata": {
        "id": "79196edf",
        "outputId": "591dbbe2-ffaf-4fc7-fc50-eea1364ff1a7",
        "colab": {
          "base_uri": "https://localhost:8080/"
        }
      },
      "outputs": [
        {
          "output_type": "execute_result",
          "data": {
            "text/plain": [
              "(0.8833592534992224, 0.8937844217151849)"
            ]
          },
          "metadata": {},
          "execution_count": 38
        }
      ],
      "source": [
        "precision_single, recall_single"
      ]
    },
    {
      "cell_type": "code",
      "execution_count": null,
      "id": "61dbd6c5",
      "metadata": {
        "id": "61dbd6c5",
        "outputId": "b31075a2-4349-42a5-eade-a59563442a22",
        "colab": {
          "base_uri": "https://localhost:8080/"
        }
      },
      "outputs": [
        {
          "output_type": "stream",
          "name": "stdout",
          "text": [
            "0.8833592534992224 0.8937844217151849\n"
          ]
        }
      ],
      "source": [
        "#Автоматом через библиотеку\n",
        "from sklearn.metrics import recall_score, precision_score\n",
        "pred = model.predict(X_test)\n",
        "recall = recall_score(y_test, pred)\n",
        "precision = precision_score(y_test, pred)\n",
        "print(precision, recall)"
      ]
    },
    {
      "cell_type": "markdown",
      "id": "97c4d8b2",
      "metadata": {
        "id": "97c4d8b2"
      },
      "source": [
        "### ROC"
      ]
    },
    {
      "cell_type": "code",
      "execution_count": null,
      "id": "720abbbf",
      "metadata": {
        "id": "720abbbf"
      },
      "outputs": [],
      "source": [
        "# посчитаем ROC-кривую (Receiver Operating Characteristic)\n",
        "from sklearn.metrics import roc_curve"
      ]
    },
    {
      "cell_type": "code",
      "execution_count": null,
      "id": "cd3d0454",
      "metadata": {
        "id": "cd3d0454"
      },
      "outputs": [],
      "source": [
        "fpr, tpr, thres = roc_curve( y_test, predictions[:, 1] )"
      ]
    },
    {
      "cell_type": "code",
      "execution_count": null,
      "id": "5428ed5b",
      "metadata": {
        "id": "5428ed5b",
        "outputId": "35687718-b865-48c0-fef6-419de4418239",
        "colab": {
          "base_uri": "https://localhost:8080/"
        }
      },
      "outputs": [
        {
          "output_type": "stream",
          "name": "stdout",
          "text": [
            "(0.0, 0.0, 1.9999999999141906)\n",
            "(0.0, 0.0007867820613690008, 0.9999999999141906)\n",
            "(0.0, 0.1022816679779701, 0.999998613159236)\n",
            "(0.0009643201542912247, 0.1022816679779701, 0.9999986097359234)\n",
            "(0.0009643201542912247, 0.46420141620771044, 0.9992896277696455)\n",
            "(0.0019286403085824494, 0.46420141620771044, 0.9992894598721187)\n",
            "(0.0019286403085824494, 0.4783634933123525, 0.9991251696212423)\n",
            "(0.0028929604628736743, 0.4783634933123525, 0.9990886125282662)\n",
            "(0.0028929604628736743, 0.5200629425649095, 0.9982867437549717)\n",
            "(0.003857280617164899, 0.5200629425649095, 0.9982775763065963)\n"
          ]
        }
      ],
      "source": [
        "for line in zip( fpr[:10], tpr[:10], thres[:10] ):\n",
        "    print( line )"
      ]
    },
    {
      "cell_type": "code",
      "execution_count": null,
      "id": "66daa4dd",
      "metadata": {
        "scrolled": true,
        "id": "66daa4dd",
        "outputId": "9763c545-1126-4852-c40d-21e30a99aa53",
        "colab": {
          "base_uri": "https://localhost:8080/",
          "height": 299
        }
      },
      "outputs": [
        {
          "output_type": "display_data",
          "data": {
            "text/plain": [
              "<Figure size 432x288 with 1 Axes>"
            ],
            "image/png": "[encoded data removed]"
          },
          "metadata": {
            "needs_background": "light"
          }
        }
      ],
      "source": [
        "plt.plot( fpr, tpr )\n",
        "plt.grid()\n",
        "plt.xlabel(\"fpr\", fontsize = 14)\n",
        "plt.ylabel(\"tpr\", fontsize = 14)\n",
        "plt.title('ROCK AUC');"
      ]
    },
    {
      "cell_type": "code",
      "execution_count": null,
      "id": "f65e033f",
      "metadata": {
        "id": "f65e033f",
        "outputId": "796eaaae-500b-4080-da95-e006740bb436",
        "colab": {
          "base_uri": "https://localhost:8080/"
        }
      },
      "outputs": [
        {
          "output_type": "execute_result",
          "data": {
            "text/plain": [
              "0.947086061211189"
            ]
          },
          "metadata": {},
          "execution_count": 44
        }
      ],
      "source": [
        "# значение AUC метрики\n",
        "sklearn.metrics.roc_auc_score( y_test, predictions[:, 1] )"
      ]
    },
    {
      "cell_type": "code",
      "execution_count": null,
      "id": "9893aee7",
      "metadata": {
        "id": "9893aee7"
      },
      "outputs": [],
      "source": [
        "# Модель, которая ничего не умеет и ее предсказания (базовая линия)\n",
        "no_skill_probs = [0 for _ in range(len(y_test))]"
      ]
    },
    {
      "cell_type": "code",
      "execution_count": null,
      "id": "a1313911",
      "metadata": {
        "id": "a1313911",
        "outputId": "503d2538-bafc-4363-f16c-b71c6900d029",
        "colab": {
          "base_uri": "https://localhost:8080/"
        }
      },
      "outputs": [
        {
          "output_type": "execute_result",
          "data": {
            "text/plain": [
              "0.5"
            ]
          },
          "metadata": {},
          "execution_count": 46
        }
      ],
      "source": [
        "sklearn.metrics.roc_auc_score(y_test, no_skill_probs)"
      ]
    },
    {
      "cell_type": "code",
      "execution_count": null,
      "id": "586426c3",
      "metadata": {
        "id": "586426c3"
      },
      "outputs": [],
      "source": [
        "no_skill_fpr, no_skill_tpr, no_skill_thres = roc_curve(y_test, no_skill_probs)"
      ]
    },
    {
      "cell_type": "code",
      "execution_count": null,
      "id": "2f27ce54",
      "metadata": {
        "id": "2f27ce54"
      },
      "outputs": [],
      "source": [
        "from sklearn.metrics import auc"
      ]
    },
    {
      "cell_type": "code",
      "execution_count": null,
      "id": "6de1a4c3",
      "metadata": {
        "id": "6de1a4c3",
        "outputId": "1d7e6ac6-3026-40ec-8aa3-52e24d7e94fe",
        "colab": {
          "base_uri": "https://localhost:8080/",
          "height": 462
        }
      },
      "outputs": [
        {
          "output_type": "display_data",
          "data": {
            "text/plain": [
              "<Figure size 1080x504 with 1 Axes>"
            ],
            "image/png": "[encoded data removed]"
          },
          "metadata": {
            "needs_background": "light"
          }
        }
      ],
      "source": [
        "plt.figure(figsize=(15, 7))\n",
        "plt.plot( fpr, tpr, label='Logistic' + '\\n' + 'area=' + str(round(auc( fpr, tpr ),2)))\n",
        "plt.plot( no_skill_fpr, no_skill_tpr, c='r', linestyle='--', label='No Skill'+ '\\n' + 'area=' + str(round(auc( no_skill_fpr, no_skill_tpr ),2)) )\n",
        "plt.grid()\n",
        "plt.xlabel(\"fpr\", fontsize = 14)\n",
        "plt.ylabel(\"tpr\", fontsize = 14)\n",
        "plt.legend(loc='best')\n",
        "plt.title('ROCK AUC + baseline');"
      ]
    },
    {
      "cell_type": "markdown",
      "id": "de561e7d",
      "metadata": {
        "id": "de561e7d"
      },
      "source": [
        "##### Подсчет метрик TPR, FPR «вручную», без использования готовых функций из библиотеки sklearn."
      ]
    },
    {
      "cell_type": "code",
      "execution_count": null,
      "id": "18bb4746",
      "metadata": {
        "id": "18bb4746"
      },
      "outputs": [],
      "source": [
        "#thresholds = np.linspace(0, 1, 500) # Создаем массив от 0 до 1 с определеныым числом элементов и равными интервалами между ними. Это будут значения порога для проверки.\n",
        "                                    #Чем больше число элементов, тем более сглаженная будет кривая\n",
        "thresholds = np.sort(np.unique(predictions[:,1])) #берем все предсказанные вероятности и сортируем от меньшей к большей\n",
        "\n",
        "def roc_curve_manual(predictions, y_true, thresholds):\n",
        "    fpr = []\n",
        "    tpr = []\n",
        "\n",
        "    for i in thresholds:\n",
        "        tp, fp, fn, tn, fpr_single, tpr_single  = pos_neg( predictions, y_test, threshold=i) #высчитываем показатели для каждого значения порога\n",
        "        fpr.append(fpr_single)\n",
        "        tpr.append(tpr_single)\n",
        "    return fpr, tpr"
      ]
    },
    {
      "cell_type": "code",
      "execution_count": null,
      "id": "5572ef58",
      "metadata": {
        "id": "5572ef58",
        "outputId": "3dff2851-183a-4351-9a7b-106d85d66301",
        "colab": {
          "base_uri": "https://localhost:8080/"
        }
      },
      "outputs": [
        {
          "output_type": "stream",
          "name": "stdout",
          "text": [
            "(1.0, 1.0, 5.206910710434844e-05)\n",
            "(0.9990356798457087, 1.0, 5.2490837089107145e-05)\n",
            "(0.9980713596914176, 1.0, 5.30477333294165e-05)\n",
            "(0.9971070395371263, 1.0, 5.323245506666819e-05)\n",
            "(0.996142719382835, 1.0, 5.3999189324393805e-05)\n",
            "(0.9951783992285439, 1.0, 5.4997218381647986e-05)\n",
            "(0.9942140790742526, 1.0, 5.5370956962746866e-05)\n",
            "(0.9932497589199615, 1.0, 5.583611778140681e-05)\n",
            "(0.9922854387656702, 1.0, 5.59517333322123e-05)\n",
            "(0.991321118611379, 1.0, 5.692930804223339e-05)\n"
          ]
        }
      ],
      "source": [
        "fpr_manual, tpr_manual = roc_curve_manual(predictions = predictions, y_true=y_test, thresholds=thresholds)\n",
        "for line in zip( fpr_manual[:10], tpr_manual[:10], thres[:10] ):\n",
        "    print( line )"
      ]
    },
    {
      "cell_type": "code",
      "execution_count": null,
      "id": "d4b0cbd5",
      "metadata": {
        "id": "d4b0cbd5",
        "outputId": "4f983387-66f3-4773-acc2-f364f8abc1f5",
        "colab": {
          "base_uri": "https://localhost:8080/",
          "height": 462
        }
      },
      "outputs": [
        {
          "output_type": "display_data",
          "data": {
            "text/plain": [
              "<Figure size 1080x504 with 1 Axes>"
            ],
            "image/png": "[encoded data removed]"
          },
          "metadata": {
            "needs_background": "light"
          }
        }
      ],
      "source": [
        "plt.figure(figsize=(15, 7))\n",
        "plt.plot( fpr, tpr, label = 'sklearn' )\n",
        "plt.plot( fpr_manual, tpr_manual, label = 'manual')\n",
        "plt.grid()\n",
        "plt.xlabel(\"fpr\", fontsize = 14)\n",
        "plt.ylabel(\"tpr\", fontsize = 14)\n",
        "plt.legend(loc='best')\n",
        "plt.title('ROCK AUC ручной и автомат')\n",
        "plt.show();"
      ]
    },
    {
      "cell_type": "markdown",
      "id": "d7da0c9e",
      "metadata": {
        "id": "d7da0c9e"
      },
      "source": [
        "При количестве элементов в нашем массиве с порогами, тем более гладкая у нас линия и приближенная к той, что считает sklearn. При num = 500 уже отлично\n",
        "\n",
        " Показатели радуют. Попробую для интереса построить еще одну модель и сравнить их между собой. Оставим только рост и массу, как предлагали в комментариях.\n"
      ]
    },
    {
      "cell_type": "markdown",
      "id": "48f02297",
      "metadata": {
        "id": "48f02297"
      },
      "source": [
        "#### Сравнение моделей с разным количеством признаков"
      ]
    },
    {
      "cell_type": "code",
      "execution_count": null,
      "id": "a5130bdc",
      "metadata": {
        "id": "a5130bdc",
        "outputId": "401f6093-6461-4478-f39a-8a1f6eb89f4b",
        "colab": {
          "base_uri": "https://localhost:8080/",
          "height": 206
        }
      },
      "outputs": [
        {
          "output_type": "execute_result",
          "data": {
            "text/plain": [
              "   height  weight\n",
              "0    1.72    64.0\n",
              "1    1.68    56.0\n",
              "2    1.98    79.0\n",
              "3    1.83    80.0\n",
              "4    1.81    71.0"
            ],
            "text/html": [
              "\n",
              "  <div id=\"df-5eedb90c-b31a-430f-853d-b91224e4cb04\">\n",
              "    <div class=\"colab-df-container\">\n",
              "      <div>\n",
              "<style scoped>\n",
              "    .dataframe tbody tr th:only-of-type {\n",
              "        vertical-align: middle;\n",
              "    }\n",
              "\n",
              "    .dataframe tbody tr th {\n",
              "        vertical-align: top;\n",
              "    }\n",
              "\n",
              "    .dataframe thead th {\n",
              "        text-align: right;\n",
              "    }\n",
              "</style>\n",
              "<table border=\"1\" class=\"dataframe\">\n",
              "  <thead>\n",
              "    <tr style=\"text-align: right;\">\n",
              "      <th></th>\n",
              "      <th>height</th>\n",
              "      <th>weight</th>\n",
              "    </tr>\n",
              "  </thead>\n",
              "  <tbody>\n",
              "    <tr>\n",
              "      <th>0</th>\n",
              "      <td>1.72</td>\n",
              "      <td>64.0</td>\n",
              "    </tr>\n",
              "    <tr>\n",
              "      <th>1</th>\n",
              "      <td>1.68</td>\n",
              "      <td>56.0</td>\n",
              "    </tr>\n",
              "    <tr>\n",
              "      <th>2</th>\n",
              "      <td>1.98</td>\n",
              "      <td>79.0</td>\n",
              "    </tr>\n",
              "    <tr>\n",
              "      <th>3</th>\n",
              "      <td>1.83</td>\n",
              "      <td>80.0</td>\n",
              "    </tr>\n",
              "    <tr>\n",
              "      <th>4</th>\n",
              "      <td>1.81</td>\n",
              "      <td>71.0</td>\n",
              "    </tr>\n",
              "  </tbody>\n",
              "</table>\n",
              "</div>\n",
              "      <button class=\"colab-df-convert\" onclick=\"convertToInteractive('df-5eedb90c-b31a-430f-853d-b91224e4cb04')\"\n",
              "              title=\"Convert this dataframe to an interactive table.\"\n",
              "              style=\"display:none;\">\n",
              "        \n",
              "  <svg xmlns=\"http://www.w3.org/2000/svg\" height=\"24px\"viewBox=\"0 0 24 24\"\n",
              "       width=\"24px\">\n",
              "    <path d=\"M0 0h24v24H0V0z\" fill=\"none\"/>\n",
              "    <path d=\"M18.56 5.44l.94 2.06.94-2.06 2.06-.94-2.06-.94-.94-2.06-.94 2.06-2.06.94zm-11 1L8.5 8.5l.94-2.06 2.06-.94-2.06-.94L8.5 2.5l-.94 2.06-2.06.94zm10 10l.94 2.06.94-2.06 2.06-.94-2.06-.94-.94-2.06-.94 2.06-2.06.94z\"/><path d=\"M17.41 7.96l-1.37-1.37c-.4-.4-.92-.59-1.43-.59-.52 0-1.04.2-1.43.59L10.3 9.45l-7.72 7.72c-.78.78-.78 2.05 0 2.83L4 21.41c.39.39.9.59 1.41.59.51 0 1.02-.2 1.41-.59l7.78-7.78 2.81-2.81c.8-.78.8-2.07 0-2.86zM5.41 20L4 18.59l7.72-7.72 1.47 1.35L5.41 20z\"/>\n",
              "  </svg>\n",
              "      </button>\n",
              "      \n",
              "  <style>\n",
              "    .colab-df-container {\n",
              "      display:flex;\n",
              "      flex-wrap:wrap;\n",
              "      gap: 12px;\n",
              "    }\n",
              "\n",
              "    .colab-df-convert {\n",
              "      background-color: #E8F0FE;\n",
              "      border: none;\n",
              "      border-radius: 50%;\n",
              "      cursor: pointer;\n",
              "      display: none;\n",
              "      fill: #1967D2;\n",
              "      height: 32px;\n",
              "      padding: 0 0 0 0;\n",
              "      width: 32px;\n",
              "    }\n",
              "\n",
              "    .colab-df-convert:hover {\n",
              "      background-color: #E2EBFA;\n",
              "      box-shadow: 0px 1px 2px rgba(60, 64, 67, 0.3), 0px 1px 3px 1px rgba(60, 64, 67, 0.15);\n",
              "      fill: #174EA6;\n",
              "    }\n",
              "\n",
              "    [theme=dark] .colab-df-convert {\n",
              "      background-color: #3B4455;\n",
              "      fill: #D2E3FC;\n",
              "    }\n",
              "\n",
              "    [theme=dark] .colab-df-convert:hover {\n",
              "      background-color: #434B5C;\n",
              "      box-shadow: 0px 1px 3px 1px rgba(0, 0, 0, 0.15);\n",
              "      filter: drop-shadow(0px 1px 2px rgba(0, 0, 0, 0.3));\n",
              "      fill: #FFFFFF;\n",
              "    }\n",
              "  </style>\n",
              "\n",
              "      <script>\n",
              "        const buttonEl =\n",
              "          document.querySelector('#df-5eedb90c-b31a-430f-853d-b91224e4cb04 button.colab-df-convert');\n",
              "        buttonEl.style.display =\n",
              "          google.colab.kernel.accessAllowed ? 'block' : 'none';\n",
              "\n",
              "        async function convertToInteractive(key) {\n",
              "          const element = document.querySelector('#df-5eedb90c-b31a-430f-853d-b91224e4cb04');\n",
              "          const dataTable =\n",
              "            await google.colab.kernel.invokeFunction('convertToInteractive',\n",
              "                                                     [key], {});\n",
              "          if (!dataTable) return;\n",
              "\n",
              "          const docLinkHtml = 'Like what you see? Visit the ' +\n",
              "            '<a target=\"_blank\" href=https://colab.research.google.com/notebooks/data_table.ipynb>data table notebook</a>'\n",
              "            + ' to learn more about interactive tables.';\n",
              "          element.innerHTML = '';\n",
              "          dataTable['output_type'] = 'display_data';\n",
              "          await google.colab.output.renderOutput(dataTable, element);\n",
              "          const docLink = document.createElement('div');\n",
              "          docLink.innerHTML = docLinkHtml;\n",
              "          element.appendChild(docLink);\n",
              "        }\n",
              "      </script>\n",
              "    </div>\n",
              "  </div>\n",
              "  "
            ]
          },
          "metadata": {},
          "execution_count": 53
        }
      ],
      "source": [
        "Xshort = df_fill.loc[ :, ['height', 'weight'] ]\n",
        "Xshort.head()"
      ]
    },
    {
      "cell_type": "code",
      "execution_count": null,
      "id": "383104e8",
      "metadata": {
        "id": "383104e8"
      },
      "outputs": [],
      "source": [
        "model2 = make_pipeline(StandardScaler(), LogisticRegression(max_iter=1000))\n"
      ]
    },
    {
      "cell_type": "code",
      "execution_count": null,
      "id": "f2948b8f",
      "metadata": {
        "id": "f2948b8f"
      },
      "outputs": [],
      "source": [
        "X_train_short, X_test_short, y_train, y_test = train_test_split( Xshort, y, test_size = 0.3, random_state = 42 )"
      ]
    },
    {
      "cell_type": "code",
      "execution_count": null,
      "id": "d472fd24",
      "metadata": {
        "id": "d472fd24",
        "outputId": "6cdd9b16-c9c5-474f-91e7-f6ae4ab9b3ce",
        "colab": {
          "base_uri": "https://localhost:8080/"
        }
      },
      "outputs": [
        {
          "output_type": "execute_result",
          "data": {
            "text/plain": [
              "Pipeline(steps=[('standardscaler', StandardScaler()),\n",
              "                ('logisticregression', LogisticRegression(max_iter=1000))])"
            ]
          },
          "metadata": {},
          "execution_count": 56
        }
      ],
      "source": [
        "model2.fit( X_train_short, y_train )"
      ]
    },
    {
      "cell_type": "code",
      "execution_count": null,
      "id": "5391e598",
      "metadata": {
        "id": "5391e598"
      },
      "outputs": [],
      "source": [
        "predictions2 = model2.predict_proba( X_test_short )"
      ]
    },
    {
      "cell_type": "code",
      "execution_count": null,
      "id": "dff1c5e7",
      "metadata": {
        "id": "dff1c5e7"
      },
      "outputs": [],
      "source": [
        "fpr2, tpr2, thres2 = roc_curve( y_test, predictions2[:, 1] )"
      ]
    },
    {
      "cell_type": "code",
      "execution_count": null,
      "id": "7a97510d",
      "metadata": {
        "id": "7a97510d",
        "outputId": "d73fd64e-abb9-4d35-9675-14804b2ed86a",
        "colab": {
          "base_uri": "https://localhost:8080/",
          "height": 458
        }
      },
      "outputs": [
        {
          "output_type": "display_data",
          "data": {
            "text/plain": [
              "<Figure size 1080x504 with 1 Axes>"
            ],
            "image/png": "[encoded data removed]"
          },
          "metadata": {
            "needs_background": "light"
          }
        }
      ],
      "source": [
        "plt.figure(figsize=(15, 7))\n",
        "plt.plot( fpr, tpr, label = 'All columns' + '\\n' + 'area=' + str(round(auc( fpr, tpr ),2)) )\n",
        "plt.plot( fpr2, tpr2, label = 'Only weight & height'  + '\\n' + 'area=' + str(round(auc( fpr2, tpr2 ),2)))\n",
        "plt.plot( no_skill_fpr, no_skill_tpr, c='r', linestyle='--', label='No Skill'+ '\\n' + 'area=' + str(round(auc( no_skill_fpr, no_skill_tpr ),2)) )\n",
        "plt.xlabel('False Positive Rate')\n",
        "plt.ylabel('True Positive Rate')\n",
        "plt.title('Сравнение ROCK AUC  моделей с учетом всех колонок и роста+веса')\n",
        "plt.legend( loc = 'best' )\n",
        "plt.grid()\n",
        "plt.show()"
      ]
    },
    {
      "cell_type": "code",
      "execution_count": null,
      "id": "9186592d",
      "metadata": {
        "id": "9186592d",
        "outputId": "4718805c-addc-4563-e9cd-7691e92ec74d",
        "colab": {
          "base_uri": "https://localhost:8080/"
        }
      },
      "outputs": [
        {
          "output_type": "execute_result",
          "data": {
            "text/plain": [
              "0.947086061211189"
            ]
          },
          "metadata": {},
          "execution_count": 60
        }
      ],
      "source": [
        "auc( fpr, tpr )"
      ]
    },
    {
      "cell_type": "code",
      "execution_count": null,
      "id": "8b9bf584",
      "metadata": {
        "id": "8b9bf584",
        "colab": {
          "base_uri": "https://localhost:8080/"
        },
        "outputId": "d022f84c-3c1b-4dcc-9889-50617af068a2"
      },
      "outputs": [
        {
          "output_type": "execute_result",
          "data": {
            "text/plain": [
              "0.8522708458962376"
            ]
          },
          "metadata": {},
          "execution_count": 61
        }
      ],
      "source": [
        "auc( fpr2, tpr2 )"
      ]
    },
    {
      "cell_type": "markdown",
      "id": "445bf75e",
      "metadata": {
        "id": "445bf75e"
      },
      "source": [
        "Сомневаюсь в нужности количества медалей и национальности. Проверим. (по итогу, проверила и спорт, тоже убрала)"
      ]
    },
    {
      "cell_type": "code",
      "execution_count": null,
      "id": "c829f0e2",
      "metadata": {
        "id": "c829f0e2",
        "outputId": "70067075-47f5-409e-a97b-1414f98907a9",
        "colab": {
          "base_uri": "https://localhost:8080/",
          "height": 235
        }
      },
      "outputs": [
        {
          "output_type": "execute_result",
          "data": {
            "text/plain": [
              "   height  weight  A  Aaron  Aauri  Ababel  Abadi  Abbas  Abbey  Abbie  ...  \\\n",
              "0    1.72    64.0  1      0      0       0      0      0      0      0  ...   \n",
              "1    1.68    56.0  1      0      0       0      0      0      0      0  ...   \n",
              "2    1.98    79.0  0      1      0       0      0      0      0      0  ...   \n",
              "3    1.83    80.0  0      1      0       0      0      0      0      0  ...   \n",
              "4    1.81    71.0  0      1      0       0      0      0      0      0  ...   \n",
              "\n",
              "   Zoya  Zsanett  Zsofia  Zsombor  Zsuzsanna  Zurabi  Zurian  Zuzana  di  le  \n",
              "0     0        0       0        0          0       0       0       0   0   0  \n",
              "1     0        0       0        0          0       0       0       0   0   0  \n",
              "2     0        0       0        0          0       0       0       0   0   0  \n",
              "3     0        0       0        0          0       0       0       0   0   0  \n",
              "4     0        0       0        0          0       0       0       0   0   0  \n",
              "\n",
              "[5 rows x 5796 columns]"
            ],
            "text/html": [
              "\n",
              "  <div id=\"df-94286735-a3ac-4de3-b7ba-f4139dbe8447\">\n",
              "    <div class=\"colab-df-container\">\n",
              "      <div>\n",
              "<style scoped>\n",
              "    .dataframe tbody tr th:only-of-type {\n",
              "        vertical-align: middle;\n",
              "    }\n",
              "\n",
              "    .dataframe tbody tr th {\n",
              "        vertical-align: top;\n",
              "    }\n",
              "\n",
              "    .dataframe thead th {\n",
              "        text-align: right;\n",
              "    }\n",
              "</style>\n",
              "<table border=\"1\" class=\"dataframe\">\n",
              "  <thead>\n",
              "    <tr style=\"text-align: right;\">\n",
              "      <th></th>\n",
              "      <th>height</th>\n",
              "      <th>weight</th>\n",
              "      <th>A</th>\n",
              "      <th>Aaron</th>\n",
              "      <th>Aauri</th>\n",
              "      <th>Ababel</th>\n",
              "      <th>Abadi</th>\n",
              "      <th>Abbas</th>\n",
              "      <th>Abbey</th>\n",
              "      <th>Abbie</th>\n",
              "      <th>...</th>\n",
              "      <th>Zoya</th>\n",
              "      <th>Zsanett</th>\n",
              "      <th>Zsofia</th>\n",
              "      <th>Zsombor</th>\n",
              "      <th>Zsuzsanna</th>\n",
              "      <th>Zurabi</th>\n",
              "      <th>Zurian</th>\n",
              "      <th>Zuzana</th>\n",
              "      <th>di</th>\n",
              "      <th>le</th>\n",
              "    </tr>\n",
              "  </thead>\n",
              "  <tbody>\n",
              "    <tr>\n",
              "      <th>0</th>\n",
              "      <td>1.72</td>\n",
              "      <td>64.0</td>\n",
              "      <td>1</td>\n",
              "      <td>0</td>\n",
              "      <td>0</td>\n",
              "      <td>0</td>\n",
              "      <td>0</td>\n",
              "      <td>0</td>\n",
              "      <td>0</td>\n",
              "      <td>0</td>\n",
              "      <td>...</td>\n",
              "      <td>0</td>\n",
              "      <td>0</td>\n",
              "      <td>0</td>\n",
              "      <td>0</td>\n",
              "      <td>0</td>\n",
              "      <td>0</td>\n",
              "      <td>0</td>\n",
              "      <td>0</td>\n",
              "      <td>0</td>\n",
              "      <td>0</td>\n",
              "    </tr>\n",
              "    <tr>\n",
              "      <th>1</th>\n",
              "      <td>1.68</td>\n",
              "      <td>56.0</td>\n",
              "      <td>1</td>\n",
              "      <td>0</td>\n",
              "      <td>0</td>\n",
              "      <td>0</td>\n",
              "      <td>0</td>\n",
              "      <td>0</td>\n",
              "      <td>0</td>\n",
              "      <td>0</td>\n",
              "      <td>...</td>\n",
              "      <td>0</td>\n",
              "      <td>0</td>\n",
              "      <td>0</td>\n",
              "      <td>0</td>\n",
              "      <td>0</td>\n",
              "      <td>0</td>\n",
              "      <td>0</td>\n",
              "      <td>0</td>\n",
              "      <td>0</td>\n",
              "      <td>0</td>\n",
              "    </tr>\n",
              "    <tr>\n",
              "      <th>2</th>\n",
              "      <td>1.98</td>\n",
              "      <td>79.0</td>\n",
              "      <td>0</td>\n",
              "      <td>1</td>\n",
              "      <td>0</td>\n",
              "      <td>0</td>\n",
              "      <td>0</td>\n",
              "      <td>0</td>\n",
              "      <td>0</td>\n",
              "      <td>0</td>\n",
              "      <td>...</td>\n",
              "      <td>0</td>\n",
              "      <td>0</td>\n",
              "      <td>0</td>\n",
              "      <td>0</td>\n",
              "      <td>0</td>\n",
              "      <td>0</td>\n",
              "      <td>0</td>\n",
              "      <td>0</td>\n",
              "      <td>0</td>\n",
              "      <td>0</td>\n",
              "    </tr>\n",
              "    <tr>\n",
              "      <th>3</th>\n",
              "      <td>1.83</td>\n",
              "      <td>80.0</td>\n",
              "      <td>0</td>\n",
              "      <td>1</td>\n",
              "      <td>0</td>\n",
              "      <td>0</td>\n",
              "      <td>0</td>\n",
              "      <td>0</td>\n",
              "      <td>0</td>\n",
              "      <td>0</td>\n",
              "      <td>...</td>\n",
              "      <td>0</td>\n",
              "      <td>0</td>\n",
              "      <td>0</td>\n",
              "      <td>0</td>\n",
              "      <td>0</td>\n",
              "      <td>0</td>\n",
              "      <td>0</td>\n",
              "      <td>0</td>\n",
              "      <td>0</td>\n",
              "      <td>0</td>\n",
              "    </tr>\n",
              "    <tr>\n",
              "      <th>4</th>\n",
              "      <td>1.81</td>\n",
              "      <td>71.0</td>\n",
              "      <td>0</td>\n",
              "      <td>1</td>\n",
              "      <td>0</td>\n",
              "      <td>0</td>\n",
              "      <td>0</td>\n",
              "      <td>0</td>\n",
              "      <td>0</td>\n",
              "      <td>0</td>\n",
              "      <td>...</td>\n",
              "      <td>0</td>\n",
              "      <td>0</td>\n",
              "      <td>0</td>\n",
              "      <td>0</td>\n",
              "      <td>0</td>\n",
              "      <td>0</td>\n",
              "      <td>0</td>\n",
              "      <td>0</td>\n",
              "      <td>0</td>\n",
              "      <td>0</td>\n",
              "    </tr>\n",
              "  </tbody>\n",
              "</table>\n",
              "<p>5 rows × 5796 columns</p>\n",
              "</div>\n",
              "      <button class=\"colab-df-convert\" onclick=\"convertToInteractive('df-94286735-a3ac-4de3-b7ba-f4139dbe8447')\"\n",
              "              title=\"Convert this dataframe to an interactive table.\"\n",
              "              style=\"display:none;\">\n",
              "        \n",
              "  <svg xmlns=\"http://www.w3.org/2000/svg\" height=\"24px\"viewBox=\"0 0 24 24\"\n",
              "       width=\"24px\">\n",
              "    <path d=\"M0 0h24v24H0V0z\" fill=\"none\"/>\n",
              "    <path d=\"M18.56 5.44l.94 2.06.94-2.06 2.06-.94-2.06-.94-.94-2.06-.94 2.06-2.06.94zm-11 1L8.5 8.5l.94-2.06 2.06-.94-2.06-.94L8.5 2.5l-.94 2.06-2.06.94zm10 10l.94 2.06.94-2.06 2.06-.94-2.06-.94-.94-2.06-.94 2.06-2.06.94z\"/><path d=\"M17.41 7.96l-1.37-1.37c-.4-.4-.92-.59-1.43-.59-.52 0-1.04.2-1.43.59L10.3 9.45l-7.72 7.72c-.78.78-.78 2.05 0 2.83L4 21.41c.39.39.9.59 1.41.59.51 0 1.02-.2 1.41-.59l7.78-7.78 2.81-2.81c.8-.78.8-2.07 0-2.86zM5.41 20L4 18.59l7.72-7.72 1.47 1.35L5.41 20z\"/>\n",
              "  </svg>\n",
              "      </button>\n",
              "      \n",
              "  <style>\n",
              "    .colab-df-container {\n",
              "      display:flex;\n",
              "      flex-wrap:wrap;\n",
              "      gap: 12px;\n",
              "    }\n",
              "\n",
              "    .colab-df-convert {\n",
              "      background-color: #E8F0FE;\n",
              "      border: none;\n",
              "      border-radius: 50%;\n",
              "      cursor: pointer;\n",
              "      display: none;\n",
              "      fill: #1967D2;\n",
              "      height: 32px;\n",
              "      padding: 0 0 0 0;\n",
              "      width: 32px;\n",
              "    }\n",
              "\n",
              "    .colab-df-convert:hover {\n",
              "      background-color: #E2EBFA;\n",
              "      box-shadow: 0px 1px 2px rgba(60, 64, 67, 0.3), 0px 1px 3px 1px rgba(60, 64, 67, 0.15);\n",
              "      fill: #174EA6;\n",
              "    }\n",
              "\n",
              "    [theme=dark] .colab-df-convert {\n",
              "      background-color: #3B4455;\n",
              "      fill: #D2E3FC;\n",
              "    }\n",
              "\n",
              "    [theme=dark] .colab-df-convert:hover {\n",
              "      background-color: #434B5C;\n",
              "      box-shadow: 0px 1px 3px 1px rgba(0, 0, 0, 0.15);\n",
              "      filter: drop-shadow(0px 1px 2px rgba(0, 0, 0, 0.3));\n",
              "      fill: #FFFFFF;\n",
              "    }\n",
              "  </style>\n",
              "\n",
              "      <script>\n",
              "        const buttonEl =\n",
              "          document.querySelector('#df-94286735-a3ac-4de3-b7ba-f4139dbe8447 button.colab-df-convert');\n",
              "        buttonEl.style.display =\n",
              "          google.colab.kernel.accessAllowed ? 'block' : 'none';\n",
              "\n",
              "        async function convertToInteractive(key) {\n",
              "          const element = document.querySelector('#df-94286735-a3ac-4de3-b7ba-f4139dbe8447');\n",
              "          const dataTable =\n",
              "            await google.colab.kernel.invokeFunction('convertToInteractive',\n",
              "                                                     [key], {});\n",
              "          if (!dataTable) return;\n",
              "\n",
              "          const docLinkHtml = 'Like what you see? Visit the ' +\n",
              "            '<a target=\"_blank\" href=https://colab.research.google.com/notebooks/data_table.ipynb>data table notebook</a>'\n",
              "            + ' to learn more about interactive tables.';\n",
              "          element.innerHTML = '';\n",
              "          dataTable['output_type'] = 'display_data';\n",
              "          await google.colab.output.renderOutput(dataTable, element);\n",
              "          const docLink = document.createElement('div');\n",
              "          docLink.innerHTML = docLinkHtml;\n",
              "          element.appendChild(docLink);\n",
              "        }\n",
              "      </script>\n",
              "    </div>\n",
              "  </div>\n",
              "  "
            ]
          },
          "metadata": {},
          "execution_count": 62
        },
        {
          "output_type": "stream",
          "name": "stdout",
          "text": [
            "Warning: Total number of columns (5796) exceeds max_columns (20) limiting to first (20) columns.\n"
          ]
        }
      ],
      "source": [
        "a2 = df_fill.iloc[:,12] # Оставляем имя (первое)\n",
        "a_ohe2 = pd.get_dummies(a2)\n",
        "b2 = df_fill.iloc[:,[5,6]] #Вещественные рост и вес\n",
        "c2 = pd.concat([b2, a_ohe2], axis = 1)\n",
        "c2.head()"
      ]
    },
    {
      "cell_type": "code",
      "execution_count": null,
      "id": "bffbc338",
      "metadata": {
        "id": "bffbc338"
      },
      "outputs": [],
      "source": [
        "X_train_short2, X_test_short2, y_train, y_test = train_test_split(c2, y, test_size=0.2, random_state=42) #Делим выборку 80/20 и закрепляем рандом"
      ]
    },
    {
      "cell_type": "code",
      "execution_count": null,
      "id": "1d6a59b6",
      "metadata": {
        "id": "1d6a59b6"
      },
      "outputs": [],
      "source": [
        "model3 = make_pipeline(StandardScaler(), LogisticRegression(max_iter=1000))\n"
      ]
    },
    {
      "cell_type": "code",
      "execution_count": null,
      "id": "364b512f",
      "metadata": {
        "id": "364b512f",
        "outputId": "88604ff0-3f02-4d72-e130-99353a4dc5ec",
        "colab": {
          "base_uri": "https://localhost:8080/"
        }
      },
      "outputs": [
        {
          "output_type": "execute_result",
          "data": {
            "text/plain": [
              "Pipeline(steps=[('standardscaler', StandardScaler()),\n",
              "                ('logisticregression', LogisticRegression(max_iter=1000))])"
            ]
          },
          "metadata": {},
          "execution_count": 65
        }
      ],
      "source": [
        "model3.fit( X_train_short2, y_train )"
      ]
    },
    {
      "cell_type": "code",
      "execution_count": null,
      "id": "b548cfd5",
      "metadata": {
        "id": "b548cfd5"
      },
      "outputs": [],
      "source": [
        "predictions3 = model3.predict_proba( X_test_short2 )"
      ]
    },
    {
      "cell_type": "code",
      "execution_count": null,
      "id": "69a58c03",
      "metadata": {
        "id": "69a58c03"
      },
      "outputs": [],
      "source": [
        "fpr3, tpr3, thres3 = roc_curve( y_test, predictions3[:, 1] )"
      ]
    },
    {
      "cell_type": "code",
      "execution_count": null,
      "id": "ebcf5aeb",
      "metadata": {
        "id": "ebcf5aeb",
        "outputId": "6aa87a92-4daf-4b14-88f5-e0b680d36c58",
        "colab": {
          "base_uri": "https://localhost:8080/",
          "height": 458
        }
      },
      "outputs": [
        {
          "output_type": "display_data",
          "data": {
            "text/plain": [
              "<Figure size 1080x504 with 1 Axes>"
            ],
            "image/png": "[encoded data removed]"
          },
          "metadata": {
            "needs_background": "light"
          }
        }
      ],
      "source": [
        "plt.figure(figsize=(15, 7))\n",
        "plt.plot( fpr, tpr, label = 'ROC curve of all columns' + '\\n' + 'area=' + str(round(auc( fpr, tpr ),3)))\n",
        "plt.plot( fpr3, tpr3, label = 'Only weight & height & first name' + '\\n' + 'area=' + str(round(auc( fpr3, tpr3 ),3)))\n",
        "plt.plot( no_skill_fpr, no_skill_tpr, c='r', linestyle='--', label='No Skill'+ '\\n' + 'area=' + str(round(auc( no_skill_fpr, no_skill_tpr ),2)) )\n",
        "plt.plot()\n",
        "plt.xlabel('False Positive Rate')\n",
        "plt.ylabel('True Positive Rate')\n",
        "plt.title('Сравнение ROCK AUC  моделей с учетом имени, веса и роста')\n",
        "plt.legend( loc = 'best' )\n",
        "plt.grid()\n",
        "plt.show()"
      ]
    },
    {
      "cell_type": "code",
      "execution_count": null,
      "id": "1119c2b2",
      "metadata": {
        "id": "1119c2b2",
        "outputId": "218ad742-277a-40ae-f65b-821b459a03c4",
        "colab": {
          "base_uri": "https://localhost:8080/"
        }
      },
      "outputs": [
        {
          "output_type": "execute_result",
          "data": {
            "text/plain": [
              "0.9509270295676795"
            ]
          },
          "metadata": {},
          "execution_count": 69
        }
      ],
      "source": [
        "np.trapz(tpr3,fpr3) #вручную берем интеграл и получаем площадь под кривыми, то есть значение ROCK AUC"
      ]
    },
    {
      "cell_type": "markdown",
      "id": "4b935769",
      "metadata": {
        "id": "4b935769"
      },
      "source": [
        "Как видим без спорта, медалей и национальности результат тот же(и даже чуть лучше). Медали и национальность лучше исключить. Со спортом auc на 0.002 единицы лучше, но для экономии ресурсов лучше исключить."
      ]
    },
    {
      "cell_type": "markdown",
      "id": "a45b2700",
      "metadata": {
        "id": "a45b2700"
      },
      "source": [
        "Для усовершенствования модели можно было бы еще сделать отбор имен по национальности, чтобы лучше определить, где есть имя, где фамилия. Или использовать сторонние библиотеки с женскими и мужскими и сверять. Но показатели модели и с грубой разбивкой радуют."
      ]
    },
    {
      "cell_type": "markdown",
      "id": "869c2dbe",
      "metadata": {
        "id": "869c2dbe"
      },
      "source": [
        "#### Построим график Precision-Recall, используя метрики, посчитанные в п. 5. для нашей третьей модели. То есть вручную же?"
      ]
    },
    {
      "cell_type": "code",
      "execution_count": null,
      "id": "44d99119",
      "metadata": {
        "id": "44d99119"
      },
      "outputs": [],
      "source": [
        "thresholds = np.sort(np.unique(predictions[:,1])) #берем все предсказанные вероятности и сортируем от меньшей к большей\n",
        "\n",
        "\n",
        "def prec_rec_manual(predictions, y_true, thresholds):\n",
        "    precision = []\n",
        "    recall = []\n",
        "\n",
        "    for i in thresholds:\n",
        "      tp, fp, fn, tn, fpr_single, tpr_single  = pos_neg( predictions, y_test, threshold=i) #высчитываем показатели для каждого значения порога\n",
        "      if (tp + fp) == 0:\n",
        "        continue\n",
        "      else:\n",
        "        precision_single = tp / (tp + fp)\n",
        "        recall_single = tp / (tp + fn)\n",
        "        recall.append(recall_single)\n",
        "        precision.append(precision_single)\n",
        "\n",
        "    return precision, recall"
      ]
    },
    {
      "cell_type": "code",
      "execution_count": null,
      "id": "32a7b608",
      "metadata": {
        "id": "32a7b608"
      },
      "outputs": [],
      "source": [
        "precision_manual3, recall_manual3 = prec_rec_manual(predictions = predictions3, y_true=y_test, thresholds=thresholds)\n"
      ]
    },
    {
      "cell_type": "code",
      "execution_count": null,
      "id": "480f7490",
      "metadata": {
        "id": "480f7490",
        "outputId": "93c10909-523e-44f8-84f1-f45905534c43",
        "colab": {
          "base_uri": "https://localhost:8080/",
          "height": 313
        }
      },
      "outputs": [
        {
          "output_type": "stream",
          "name": "stderr",
          "text": [
            "WARNING:matplotlib.legend:No handles with labels found to put in legend.\n"
          ]
        },
        {
          "output_type": "display_data",
          "data": {
            "text/plain": [
              "<Figure size 432x288 with 1 Axes>"
            ],
            "image/png": "[encoded data removed]"
          },
          "metadata": {
            "needs_background": "light"
          }
        }
      ],
      "source": [
        "plt.plot( recall_manual3, precision_manual3)\n",
        "plt.xlabel('Recall')\n",
        "plt.ylabel('Precision')\n",
        "plt.title('Precision-Recall curve_manual')\n",
        "plt.legend( loc = 'best' )\n",
        "plt.grid()\n",
        "plt.show()"
      ]
    },
    {
      "cell_type": "code",
      "execution_count": null,
      "id": "eb2a21e4",
      "metadata": {
        "id": "eb2a21e4"
      },
      "outputs": [],
      "source": [
        "# метод для построения графика precision-recall\n",
        "from sklearn.metrics import precision_recall_curve\n",
        "pr, re, thres = precision_recall_curve( y_test, predictions3[:, 1] )"
      ]
    },
    {
      "cell_type": "code",
      "execution_count": null,
      "id": "998f8721",
      "metadata": {
        "id": "998f8721",
        "outputId": "08e31753-b709-4c6c-cae4-ab0d29ce2c15",
        "colab": {
          "base_uri": "https://localhost:8080/",
          "height": 458
        }
      },
      "outputs": [
        {
          "output_type": "display_data",
          "data": {
            "text/plain": [
              "<Figure size 1080x504 with 1 Axes>"
            ],
            "image/png": "[encoded data removed]"
          },
          "metadata": {
            "needs_background": "light"
          }
        }
      ],
      "source": [
        "plt.figure(figsize=(15, 7))\n",
        "\n",
        "no_skill = len(y_test[y_test==1]) / len(y_test)\n",
        "plt.plot([0, 1], [no_skill, no_skill], linestyle='--', label='No Skill')\n",
        "plt.plot(re, pr, label='Logistic')\n",
        "plt.plot( recall_manual3, precision_manual3, label='manual')\n",
        "\n",
        "plt.xlabel('Recall')\n",
        "plt.ylabel('Precision')\n",
        "plt.title('Precision-Recall curve')\n",
        "plt.legend( loc = 'best' )\n",
        "plt.grid()\n",
        "plt.show()"
      ]
    },
    {
      "cell_type": "code",
      "execution_count": null,
      "id": "bbe7916d",
      "metadata": {
        "id": "bbe7916d"
      },
      "outputs": [],
      "source": [
        "from sklearn.metrics import average_precision_score"
      ]
    },
    {
      "cell_type": "code",
      "execution_count": null,
      "id": "b7aafbae",
      "metadata": {
        "id": "b7aafbae",
        "outputId": "52b987dc-de78-4a5b-fb5a-a8048729c73f",
        "colab": {
          "base_uri": "https://localhost:8080/"
        }
      },
      "outputs": [
        {
          "output_type": "execute_result",
          "data": {
            "text/plain": [
              "0.9601221906093587"
            ]
          },
          "metadata": {},
          "execution_count": 118
        }
      ],
      "source": [
        "# площадь под кривой\n",
        "average_precision_score( y_test, predictions3[:, 1] )"
      ]
    }
  ],
  "metadata": {
    "kernelspec": {
      "display_name": "Python 3 (ipykernel)",
      "language": "python",
      "name": "python3"
    },
    "language_info": {
      "codemirror_mode": {
        "name": "ipython",
        "version": 3
      },
      "file_extension": ".py",
      "mimetype": "text/x-python",
      "name": "python",
      "nbconvert_exporter": "python",
      "pygments_lexer": "ipython3",
      "version": "3.9.12"
    },
    "colab": {
      "provenance": [],
      "include_colab_link": true
    }
  },
  "nbformat": 4,
  "nbformat_minor": 5
}